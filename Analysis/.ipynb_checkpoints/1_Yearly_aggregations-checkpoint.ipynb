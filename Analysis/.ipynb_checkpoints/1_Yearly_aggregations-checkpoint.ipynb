{
 "cells": [
  {
   "cell_type": "code",
   "execution_count": 1,
   "id": "f8ba6857-8a51-4d3c-a0fa-780060c8a2b4",
   "metadata": {},
   "outputs": [],
   "source": [
    "import pandas as pd"
   ]
  },
  {
   "cell_type": "markdown",
   "id": "065a1708-a3d2-434c-b8e0-e6ba86e3cdc5",
   "metadata": {},
   "source": [
    "## Weather data annual aggregations"
   ]
  },
  {
   "cell_type": "code",
   "execution_count": 2,
   "id": "6b4e142a-4f45-4262-abf0-f52d18d40be6",
   "metadata": {},
   "outputs": [],
   "source": [
    "#Import merged weather data\n",
    "df = pd.read_csv(\"weather_data.csv\")"
   ]
  },
  {
   "cell_type": "code",
   "execution_count": 3,
   "id": "867ffdcc-e408-49db-9f46-b7431c9b5c73",
   "metadata": {},
   "outputs": [],
   "source": [
    "#Set date column as datetime\n",
    "df['Date Local'] = pd.to_datetime(df['Date Local'])\n",
    "#Create a new column with the year only\n",
    "df['Year'] = df['Date Local'].dt.year"
   ]
  },
  {
   "cell_type": "code",
   "execution_count": 4,
   "id": "69efabee-e377-4827-aebe-3674c98e3f63",
   "metadata": {},
   "outputs": [],
   "source": [
    "#Make annual aggregations\n",
    "weather_yearly = df.groupby(['Year','State Code','State Name']).agg({'RH(%)':'mean', \n",
    "                                                    'Temperature(C)':'mean', \n",
    "                                                    'Temperature(C) Max Value':'mean', \n",
    "                                                    'Barometric pressure(mb)':'mean', \n",
    "                                                    'Wind Speed(kn)':'mean', \n",
    "                                                    'Wind Direction(deg)':'mean'\n",
    "                                                   }).reset_index()"
   ]
  },
  {
   "cell_type": "code",
   "execution_count": 5,
   "id": "1162192b-5443-4af1-8c3b-61decfaf5a29",
   "metadata": {},
   "outputs": [],
   "source": [
    "#Create a unique id for each value\n",
    "weather_yearly['year_meas_id'] = weather_yearly['State Code'].astype(str) + '_' + weather_yearly['Year'].astype(str)"
   ]
  },
  {
   "cell_type": "code",
   "execution_count": 6,
   "id": "9e6ec606-82c6-4cb3-9caf-eaf9318ecdfc",
   "metadata": {},
   "outputs": [
    {
     "data": {
      "text/html": [
       "<div>\n",
       "<style scoped>\n",
       "    .dataframe tbody tr th:only-of-type {\n",
       "        vertical-align: middle;\n",
       "    }\n",
       "\n",
       "    .dataframe tbody tr th {\n",
       "        vertical-align: top;\n",
       "    }\n",
       "\n",
       "    .dataframe thead th {\n",
       "        text-align: right;\n",
       "    }\n",
       "</style>\n",
       "<table border=\"1\" class=\"dataframe\">\n",
       "  <thead>\n",
       "    <tr style=\"text-align: right;\">\n",
       "      <th></th>\n",
       "      <th>Year</th>\n",
       "      <th>State Code</th>\n",
       "      <th>State Name</th>\n",
       "      <th>RH(%)</th>\n",
       "      <th>Temperature(C)</th>\n",
       "      <th>Temperature(C) Max Value</th>\n",
       "      <th>Barometric pressure(mb)</th>\n",
       "      <th>Wind Speed(kn)</th>\n",
       "      <th>Wind Direction(deg)</th>\n",
       "      <th>year_meas_id</th>\n",
       "    </tr>\n",
       "  </thead>\n",
       "  <tbody>\n",
       "    <tr>\n",
       "      <th>0</th>\n",
       "      <td>2004</td>\n",
       "      <td>1</td>\n",
       "      <td>Alabama</td>\n",
       "      <td>72.174107</td>\n",
       "      <td>NaN</td>\n",
       "      <td>NaN</td>\n",
       "      <td>NaN</td>\n",
       "      <td>NaN</td>\n",
       "      <td>NaN</td>\n",
       "      <td>1_2004</td>\n",
       "    </tr>\n",
       "    <tr>\n",
       "      <th>1</th>\n",
       "      <td>2004</td>\n",
       "      <td>2</td>\n",
       "      <td>Alaska</td>\n",
       "      <td>73.875565</td>\n",
       "      <td>0.086509</td>\n",
       "      <td>4.048600</td>\n",
       "      <td>NaN</td>\n",
       "      <td>1.964803</td>\n",
       "      <td>176.855277</td>\n",
       "      <td>2_2004</td>\n",
       "    </tr>\n",
       "    <tr>\n",
       "      <th>2</th>\n",
       "      <td>2004</td>\n",
       "      <td>4</td>\n",
       "      <td>Arizona</td>\n",
       "      <td>39.861618</td>\n",
       "      <td>18.867207</td>\n",
       "      <td>25.458893</td>\n",
       "      <td>NaN</td>\n",
       "      <td>5.613356</td>\n",
       "      <td>169.300873</td>\n",
       "      <td>4_2004</td>\n",
       "    </tr>\n",
       "    <tr>\n",
       "      <th>3</th>\n",
       "      <td>2004</td>\n",
       "      <td>5</td>\n",
       "      <td>Arkansas</td>\n",
       "      <td>70.713115</td>\n",
       "      <td>NaN</td>\n",
       "      <td>NaN</td>\n",
       "      <td>NaN</td>\n",
       "      <td>NaN</td>\n",
       "      <td>NaN</td>\n",
       "      <td>5_2004</td>\n",
       "    </tr>\n",
       "    <tr>\n",
       "      <th>4</th>\n",
       "      <td>2004</td>\n",
       "      <td>6</td>\n",
       "      <td>California</td>\n",
       "      <td>61.169253</td>\n",
       "      <td>15.986932</td>\n",
       "      <td>21.966234</td>\n",
       "      <td>987.820343</td>\n",
       "      <td>3.877942</td>\n",
       "      <td>189.534512</td>\n",
       "      <td>6_2004</td>\n",
       "    </tr>\n",
       "  </tbody>\n",
       "</table>\n",
       "</div>"
      ],
      "text/plain": [
       "   Year  State Code  State Name      RH(%)  Temperature(C)  \\\n",
       "0  2004           1     Alabama  72.174107             NaN   \n",
       "1  2004           2      Alaska  73.875565        0.086509   \n",
       "2  2004           4     Arizona  39.861618       18.867207   \n",
       "3  2004           5    Arkansas  70.713115             NaN   \n",
       "4  2004           6  California  61.169253       15.986932   \n",
       "\n",
       "   Temperature(C) Max Value  Barometric pressure(mb)  Wind Speed(kn)  \\\n",
       "0                       NaN                      NaN             NaN   \n",
       "1                  4.048600                      NaN        1.964803   \n",
       "2                 25.458893                      NaN        5.613356   \n",
       "3                       NaN                      NaN             NaN   \n",
       "4                 21.966234               987.820343        3.877942   \n",
       "\n",
       "   Wind Direction(deg) year_meas_id  \n",
       "0                  NaN       1_2004  \n",
       "1           176.855277       2_2004  \n",
       "2           169.300873       4_2004  \n",
       "3                  NaN       5_2004  \n",
       "4           189.534512       6_2004  "
      ]
     },
     "execution_count": 6,
     "metadata": {},
     "output_type": "execute_result"
    }
   ],
   "source": [
    "weather_yearly.head()"
   ]
  },
  {
   "cell_type": "code",
   "execution_count": null,
   "id": "0443407e-ad9b-4d2f-a9a1-2ca4eb9031a5",
   "metadata": {},
   "outputs": [],
   "source": [
    "#Export to csv\n",
    "#weather_yearly.to_csv(\"weather_data_yearly.csv\", index=False)"
   ]
  },
  {
   "cell_type": "markdown",
   "id": "76dfce71-9215-46a5-8de3-b23f19745a26",
   "metadata": {},
   "source": [
    "## AQI annual agreggations"
   ]
  },
  {
   "cell_type": "code",
   "execution_count": 7,
   "id": "57dccef0-d174-4868-9c96-9fd9889e7533",
   "metadata": {},
   "outputs": [],
   "source": [
    "#Import merged AQI data\n",
    "aqi = pd.read_csv(\"daily_AQI.csv\")"
   ]
  },
  {
   "cell_type": "code",
   "execution_count": 11,
   "id": "814fe355-3548-446f-9428-305fc482c214",
   "metadata": {},
   "outputs": [],
   "source": [
    "#Changing data types\n",
    "aqi['State Code'] = aqi['State Code'].astype(int).astype(str)\n",
    "aqi['County Code'] = aqi['County Code'].astype(int).astype(str)\n",
    "aqi['Site Num'] = aqi['Site Num'].astype(int).astype(str)\n",
    "aqi['Date Local'] = pd.to_datetime(aqi['Date Local'])\n",
    "#Create a new column with the year only\n",
    "aqi['Year'] = aqi['Date Local'].dt.year"
   ]
  },
  {
   "cell_type": "code",
   "execution_count": 13,
   "id": "11cb2e5b-a650-4cd9-b509-cda09d9b3234",
   "metadata": {},
   "outputs": [],
   "source": [
    "# Grouping by year, State code, State Name\n",
    "group_cols = ['Year', 'State Code', 'State Name']\n",
    "\n",
    "aqi_yearly = aqi.groupby(group_cols).agg({'max_value': 'mean'}).reset_index()\n",
    "\n",
    "# remaning aqi column\n",
    "aqi_yearly.rename(columns={'max_value': 'AQI_mean'},inplace=True)"
   ]
  },
  {
   "cell_type": "code",
   "execution_count": 14,
   "id": "0d78d9eb-7505-4977-8086-45c85c97c09b",
   "metadata": {},
   "outputs": [],
   "source": [
    "# Creating unique measurement id\n",
    "aqi_yearly['year_meas_id'] = aqi_yearly['State Code'].astype(str) + '_' + aqi_yearly['Year'].astype(str)"
   ]
  },
  {
   "cell_type": "markdown",
   "id": "af29fadd-410a-4eec-af35-d9827ab63830",
   "metadata": {},
   "source": [
    "## Merging AQI and weather yearly data"
   ]
  },
  {
   "cell_type": "code",
   "execution_count": 15,
   "id": "daae6d44-b600-4f60-b93f-434525f58a85",
   "metadata": {},
   "outputs": [],
   "source": [
    "weather_aqi_yearly = pd.merge(aqi_yearly, weather_yearly, how='outer', on='year_meas_id')"
   ]
  },
  {
   "cell_type": "code",
   "execution_count": 16,
   "id": "bd7556ea-4135-4338-a537-53decbdcd345",
   "metadata": {},
   "outputs": [],
   "source": [
    "df_cols = weather_aqi_yearly.columns"
   ]
  },
  {
   "cell_type": "code",
   "execution_count": 17,
   "id": "efad0944-013c-4362-8d48-1bb854c8e813",
   "metadata": {},
   "outputs": [],
   "source": [
    "for column in df_cols:\n",
    "    if column.endswith('_x'):\n",
    "        corresponding_column = column[:-2] + '_y'\n",
    "        if corresponding_column in weather_aqi_yearly.columns:\n",
    "           weather_aqi_yearly[column] = weather_aqi_yearly[column].fillna(weather_aqi_yearly[corresponding_column])"
   ]
  },
  {
   "cell_type": "code",
   "execution_count": 18,
   "id": "230a21e2-ee7a-4f51-ac39-436b8e8cf9c9",
   "metadata": {},
   "outputs": [],
   "source": [
    "weather_aqi_yearly = weather_aqi_yearly.drop(columns=weather_aqi_yearly.filter(regex='_y$').columns)"
   ]
  },
  {
   "cell_type": "code",
   "execution_count": 19,
   "id": "2ea9e2ae-ac1b-4ac2-959c-0fdf0f1514b6",
   "metadata": {},
   "outputs": [
    {
     "data": {
      "text/plain": [
       "Index(['Year_x', 'State Code_x', 'State Name_x', 'AQI_mean', 'year_meas_id',\n",
       "       'RH(%)', 'Temperature(C)', 'Temperature(C) Max Value',\n",
       "       'Barometric pressure(mb)', 'Wind Speed(kn)', 'Wind Direction(deg)'],\n",
       "      dtype='object')"
      ]
     },
     "execution_count": 19,
     "metadata": {},
     "output_type": "execute_result"
    }
   ],
   "source": [
    "weather_aqi_yearly.columns"
   ]
  },
  {
   "cell_type": "code",
   "execution_count": 20,
   "id": "8583007e-f19e-42cd-8ada-0f06edcb44a8",
   "metadata": {},
   "outputs": [],
   "source": [
    "weather_aqi_yearly.rename(columns={'Year_x':'Year', 'State Code_x':'State Code', 'State Name_x': 'State Name'},inplace=True)"
   ]
  },
  {
   "cell_type": "code",
   "execution_count": 21,
   "id": "e1ad37f0-92c1-41a1-adcd-9860965be0ac",
   "metadata": {},
   "outputs": [
    {
     "data": {
      "text/html": [
       "<div>\n",
       "<style scoped>\n",
       "    .dataframe tbody tr th:only-of-type {\n",
       "        vertical-align: middle;\n",
       "    }\n",
       "\n",
       "    .dataframe tbody tr th {\n",
       "        vertical-align: top;\n",
       "    }\n",
       "\n",
       "    .dataframe thead th {\n",
       "        text-align: right;\n",
       "    }\n",
       "</style>\n",
       "<table border=\"1\" class=\"dataframe\">\n",
       "  <thead>\n",
       "    <tr style=\"text-align: right;\">\n",
       "      <th></th>\n",
       "      <th>Year</th>\n",
       "      <th>State Code</th>\n",
       "      <th>State Name</th>\n",
       "      <th>AQI_mean</th>\n",
       "      <th>year_meas_id</th>\n",
       "      <th>RH(%)</th>\n",
       "      <th>Temperature(C)</th>\n",
       "      <th>Temperature(C) Max Value</th>\n",
       "      <th>Barometric pressure(mb)</th>\n",
       "      <th>Wind Speed(kn)</th>\n",
       "      <th>Wind Direction(deg)</th>\n",
       "    </tr>\n",
       "  </thead>\n",
       "  <tbody>\n",
       "    <tr>\n",
       "      <th>0</th>\n",
       "      <td>2004</td>\n",
       "      <td>10</td>\n",
       "      <td>Delaware</td>\n",
       "      <td>45.115455</td>\n",
       "      <td>10_2004</td>\n",
       "      <td>NaN</td>\n",
       "      <td>NaN</td>\n",
       "      <td>NaN</td>\n",
       "      <td>NaN</td>\n",
       "      <td>NaN</td>\n",
       "      <td>NaN</td>\n",
       "    </tr>\n",
       "    <tr>\n",
       "      <th>1</th>\n",
       "      <td>2005</td>\n",
       "      <td>10</td>\n",
       "      <td>Delaware</td>\n",
       "      <td>49.378854</td>\n",
       "      <td>10_2005</td>\n",
       "      <td>NaN</td>\n",
       "      <td>NaN</td>\n",
       "      <td>NaN</td>\n",
       "      <td>NaN</td>\n",
       "      <td>NaN</td>\n",
       "      <td>NaN</td>\n",
       "    </tr>\n",
       "    <tr>\n",
       "      <th>2</th>\n",
       "      <td>2006</td>\n",
       "      <td>10</td>\n",
       "      <td>Delaware</td>\n",
       "      <td>46.456673</td>\n",
       "      <td>10_2006</td>\n",
       "      <td>NaN</td>\n",
       "      <td>NaN</td>\n",
       "      <td>NaN</td>\n",
       "      <td>NaN</td>\n",
       "      <td>NaN</td>\n",
       "      <td>NaN</td>\n",
       "    </tr>\n",
       "    <tr>\n",
       "      <th>3</th>\n",
       "      <td>2007</td>\n",
       "      <td>10</td>\n",
       "      <td>Delaware</td>\n",
       "      <td>45.317059</td>\n",
       "      <td>10_2007</td>\n",
       "      <td>NaN</td>\n",
       "      <td>NaN</td>\n",
       "      <td>NaN</td>\n",
       "      <td>NaN</td>\n",
       "      <td>NaN</td>\n",
       "      <td>NaN</td>\n",
       "    </tr>\n",
       "    <tr>\n",
       "      <th>4</th>\n",
       "      <td>2008</td>\n",
       "      <td>10</td>\n",
       "      <td>Delaware</td>\n",
       "      <td>43.456153</td>\n",
       "      <td>10_2008</td>\n",
       "      <td>NaN</td>\n",
       "      <td>NaN</td>\n",
       "      <td>NaN</td>\n",
       "      <td>NaN</td>\n",
       "      <td>NaN</td>\n",
       "      <td>NaN</td>\n",
       "    </tr>\n",
       "  </tbody>\n",
       "</table>\n",
       "</div>"
      ],
      "text/plain": [
       "   Year State Code State Name   AQI_mean year_meas_id  RH(%)  Temperature(C)  \\\n",
       "0  2004         10   Delaware  45.115455      10_2004    NaN             NaN   \n",
       "1  2005         10   Delaware  49.378854      10_2005    NaN             NaN   \n",
       "2  2006         10   Delaware  46.456673      10_2006    NaN             NaN   \n",
       "3  2007         10   Delaware  45.317059      10_2007    NaN             NaN   \n",
       "4  2008         10   Delaware  43.456153      10_2008    NaN             NaN   \n",
       "\n",
       "   Temperature(C) Max Value  Barometric pressure(mb)  Wind Speed(kn)  \\\n",
       "0                       NaN                      NaN             NaN   \n",
       "1                       NaN                      NaN             NaN   \n",
       "2                       NaN                      NaN             NaN   \n",
       "3                       NaN                      NaN             NaN   \n",
       "4                       NaN                      NaN             NaN   \n",
       "\n",
       "   Wind Direction(deg)  \n",
       "0                  NaN  \n",
       "1                  NaN  \n",
       "2                  NaN  \n",
       "3                  NaN  \n",
       "4                  NaN  "
      ]
     },
     "execution_count": 21,
     "metadata": {},
     "output_type": "execute_result"
    }
   ],
   "source": [
    "weather_aqi_yearly.head()"
   ]
  },
  {
   "cell_type": "code",
   "execution_count": null,
   "id": "5b58bcac-a785-4303-abb7-a2ae133a6a1e",
   "metadata": {},
   "outputs": [],
   "source": [
    "# Saving final dataframe with yearly weather and AQI data\n",
    "weather_aqi_yearly.to_csv(\"yearly_state_data.csv\", index=False,encoding='utf-8')"
   ]
  }
 ],
 "metadata": {
  "kernelspec": {
   "display_name": "Python 3 (ipykernel)",
   "language": "python",
   "name": "python3"
  },
  "language_info": {
   "codemirror_mode": {
    "name": "ipython",
    "version": 3
   },
   "file_extension": ".py",
   "mimetype": "text/x-python",
   "name": "python",
   "nbconvert_exporter": "python",
   "pygments_lexer": "ipython3",
   "version": "3.9.17"
  }
 },
 "nbformat": 4,
 "nbformat_minor": 5
}
