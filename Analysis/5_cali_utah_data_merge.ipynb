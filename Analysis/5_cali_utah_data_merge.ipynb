{
 "cells": [
  {
   "cell_type": "code",
   "execution_count": 1,
   "id": "74514836-5aa6-45e4-b33d-bd934d7cedfc",
   "metadata": {},
   "outputs": [],
   "source": [
    "import pandas as pd"
   ]
  },
  {
   "cell_type": "markdown",
   "id": "48f29577-6537-433e-99ff-67d6179a186c",
   "metadata": {},
   "source": [
    "## Merging air quality and weather data"
   ]
  },
  {
   "cell_type": "code",
   "execution_count": null,
   "id": "ea48a4ba-cb4b-4ebb-ae8f-9051f78c2f14",
   "metadata": {},
   "outputs": [],
   "source": [
    "#Import California's and Utah's air quality and weather data\n",
    "df_poll = pd.read_csv(\"daily_Cal&Utah.csv\")\n",
    "df_weather = pd.read_csv(\"utah_cali_daily_weather.csv\")"
   ]
  },
  {
   "cell_type": "code",
   "execution_count": null,
   "id": "2c516d90-46bf-4dbb-a9a7-214d69710202",
   "metadata": {},
   "outputs": [],
   "source": [
    "#Merge weather and pollution data\n",
    "all_df = pd.merge(df_poll, df_weather, how='outer',on='measurement_id')"
   ]
  },
  {
   "cell_type": "code",
   "execution_count": null,
   "id": "e28eccc6-d7d8-4591-a717-f092dce54b4c",
   "metadata": {},
   "outputs": [],
   "source": [
    "#Fill left columns if NaN\n",
    "for column in all_df.columns:\n",
    "    if column.endswith('_x'):\n",
    "        corresponding_column = column[:-2] + '_y'\n",
    "        if corresponding_column in all_df.columns:\n",
    "            all_df[column] = all_df[column].fillna(all_df[corresponding_column])\n",
    "\n",
    "#Drop right columns\n",
    "all_df = all_df.drop(columns=all_df.filter(regex='_y$').columns)\n",
    "\n",
    "#Rename columns\n",
    "all_df.rename(columns={'State Code_x':'State Code', 'State Name_x':'State Name', 'County Code_x':'County Code', 'County Name_x':'County Name',\n",
    "       'City Name_x':'City Name', 'Site Num_x':'Site Num', 'Datum_x':'Datum', 'Latitude_x':'Latitude', 'Longitude_x':'Longitude',\n",
    "       'Date Local_x':'Date Local','CBSA Name_x':'CBSA Name'},inplace=True)"
   ]
  },
  {
   "cell_type": "code",
   "execution_count": null,
   "id": "23567b16-b53f-46ce-b354-fcdcad11616e",
   "metadata": {},
   "outputs": [],
   "source": [
    "# Save to CSV\n",
    "all_df.to_csv(\"utah_cali_all.csv\",index=False)"
   ]
  }
 ],
 "metadata": {
  "kernelspec": {
   "display_name": "Python 3 (ipykernel)",
   "language": "python",
   "name": "python3"
  },
  "language_info": {
   "codemirror_mode": {
    "name": "ipython",
    "version": 3
   },
   "file_extension": ".py",
   "mimetype": "text/x-python",
   "name": "python",
   "nbconvert_exporter": "python",
   "pygments_lexer": "ipython3",
   "version": "3.9.17"
  }
 },
 "nbformat": 4,
 "nbformat_minor": 5
}
