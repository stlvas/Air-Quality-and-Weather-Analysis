{
 "cells": [
  {
   "cell_type": "code",
   "execution_count": 2,
   "id": "5ce05767-1a6e-45e5-ac29-c6d9753fc3e3",
   "metadata": {},
   "outputs": [],
   "source": [
    "import pandas as pd"
   ]
  },
  {
   "cell_type": "markdown",
   "id": "341b74b7-4631-44e7-836b-404595003c39",
   "metadata": {},
   "source": [
    "## Keeping data only from California and Utah"
   ]
  },
  {
   "cell_type": "code",
   "execution_count": 4,
   "id": "76b12164-6983-4e63-934f-3cf97325eecf",
   "metadata": {},
   "outputs": [],
   "source": [
    "#Import daily weather data\n",
    "weather_df = pd.read_csv(\"weather_data.csv\")"
   ]
  },
  {
   "cell_type": "code",
   "execution_count": 6,
   "id": "05ce0512-e0cb-4492-a63e-fc2f68b34b8a",
   "metadata": {},
   "outputs": [
    {
     "name": "stdout",
     "output_type": "stream",
     "text": [
      "<class 'pandas.core.frame.DataFrame'>\n",
      "RangeIndex: 5802687 entries, 0 to 5802686\n",
      "Data columns (total 28 columns):\n",
      " #   Column                             Dtype  \n",
      "---  ------                             -----  \n",
      " 0   State Code                         int64  \n",
      " 1   State Name                         object \n",
      " 2   County Code                        int64  \n",
      " 3   County Name                        object \n",
      " 4   City Name                          object \n",
      " 5   Site Num                           int64  \n",
      " 6   Datum                              object \n",
      " 7   Latitude                           float64\n",
      " 8   Longitude                          float64\n",
      " 9   Date Local                         object \n",
      " 10  Barometric pressure(mb)            float64\n",
      " 11  Barometric pressure(mb) Max Value  float64\n",
      " 12  Barometric pressure(mb) Max Hour   float64\n",
      " 13  CBSA Name                          object \n",
      " 14  measurement_id                     object \n",
      " 15  RH(%)                              float64\n",
      " 16  RH(%) Max Value                    float64\n",
      " 17  RH(%) Max Hour                     float64\n",
      " 18  Temperature(C)                     float64\n",
      " 19  Temperature(C) Max Value           float64\n",
      " 20  Temperature(F) Max Hour            float64\n",
      " 21  Wind Direction(deg)                float64\n",
      " 22  Wind Direction(deg) Max Value      float64\n",
      " 23  Wind Direction(deg) Max Hour       float64\n",
      " 24  Wind Speed(kn)                     float64\n",
      " 25  Wind Speed(kn) Max Value           float64\n",
      " 26  Wind Speed(kn) Max Hour            float64\n",
      " 27  station_id                         object \n",
      "dtypes: float64(17), int64(3), object(8)\n",
      "memory usage: 1.2+ GB\n"
     ]
    }
   ],
   "source": [
    "weather_df.info()"
   ]
  },
  {
   "cell_type": "code",
   "execution_count": 3,
   "id": "c2c2c667-9a68-48d1-bd74-83dbf5205ff2",
   "metadata": {},
   "outputs": [],
   "source": [
    "#Slice data for California and Utah\n",
    "utah_calif_df = weather_df[(weather_df['State Name']=='Utah')|(weather_df['State Name']=='California')]"
   ]
  },
  {
   "cell_type": "code",
   "execution_count": null,
   "id": "e51461b6-18f9-4a43-a2f7-fbf9545aa72a",
   "metadata": {},
   "outputs": [],
   "source": [
    "#Save to csv\n",
    "utah_calif_df.to_csv(\"utah_cali_daily_weather.csv\",index=False)"
   ]
  }
 ],
 "metadata": {
  "kernelspec": {
   "display_name": "Python 3 (ipykernel)",
   "language": "python",
   "name": "python3"
  },
  "language_info": {
   "codemirror_mode": {
    "name": "ipython",
    "version": 3
   },
   "file_extension": ".py",
   "mimetype": "text/x-python",
   "name": "python",
   "nbconvert_exporter": "python",
   "pygments_lexer": "ipython3",
   "version": "3.9.17"
  }
 },
 "nbformat": 4,
 "nbformat_minor": 5
}
