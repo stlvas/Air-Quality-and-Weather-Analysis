{
 "cells": [
  {
   "cell_type": "code",
   "execution_count": 1,
   "id": "e1ef067a-bcec-451e-b12d-33eed6e12a09",
   "metadata": {},
   "outputs": [],
   "source": [
    "import pandas as pd"
   ]
  },
  {
   "cell_type": "markdown",
   "id": "dcca27a4-609a-45d4-856a-13908d4b3be8",
   "metadata": {},
   "source": [
    "## Weather data annual aggregations"
   ]
  },
  {
   "cell_type": "code",
   "execution_count": 2,
   "id": "18f61630-1235-41fe-aa14-3771acbdeecb",
   "metadata": {},
   "outputs": [],
   "source": [
    "#Import merged weather data\n",
    "df = pd.read_csv(\"weather_data.csv\")"
   ]
  },
  {
   "cell_type": "code",
   "execution_count": 5,
   "id": "e669761b-01e3-4f9d-ae05-f67b035ff2c1",
   "metadata": {},
   "outputs": [],
   "source": [
    "#Set date column as datetime\n",
    "df['Date Local'] = pd.to_datetime(df['Date Local'])"
   ]
  },
  {
   "cell_type": "code",
   "execution_count": 8,
   "id": "67d5e250-73b9-49d8-a458-07059e959940",
   "metadata": {},
   "outputs": [],
   "source": [
    "#Create a new column with the year only\n",
    "df['Year'] = df['Date Local'].dt.year"
   ]
  },
  {
   "cell_type": "code",
   "execution_count": 11,
   "id": "4c29604f-b39e-489f-aabc-f71f29199536",
   "metadata": {},
   "outputs": [],
   "source": [
    "#Make annual aggregations\n",
    "df_yearly = df.groupby(['Year','State Code','State Name']).agg({'RH(%)':'mean', \n",
    "                                                    'Temperature(C)':'mean', \n",
    "                                                    'Temperature(C) Max Value':'mean', \n",
    "                                                    'Barometric pressure(mb)':'mean', \n",
    "                                                    'Wind Speed(kn)':'mean', \n",
    "                                                    'Wind Direction(deg)':'mean'\n",
    "                                                   }).reset_index()"
   ]
  },
  {
   "cell_type": "code",
   "execution_count": 14,
   "id": "0cc692e9-8a5c-4a2b-85bb-d0ba23786bc7",
   "metadata": {},
   "outputs": [],
   "source": [
    "#Create a unique id for each value\n",
    "df_yearly['year_meas_id'] = df_yearly['State Code'].astype(str) + '_' + df_yearly['Year'].astype(str)"
   ]
  },
  {
   "cell_type": "code",
   "execution_count": 16,
   "id": "2a71555c-9ef0-4f98-8203-ea0ef39ba5d5",
   "metadata": {},
   "outputs": [
    {
     "data": {
      "text/html": [
       "<div>\n",
       "<style scoped>\n",
       "    .dataframe tbody tr th:only-of-type {\n",
       "        vertical-align: middle;\n",
       "    }\n",
       "\n",
       "    .dataframe tbody tr th {\n",
       "        vertical-align: top;\n",
       "    }\n",
       "\n",
       "    .dataframe thead th {\n",
       "        text-align: right;\n",
       "    }\n",
       "</style>\n",
       "<table border=\"1\" class=\"dataframe\">\n",
       "  <thead>\n",
       "    <tr style=\"text-align: right;\">\n",
       "      <th></th>\n",
       "      <th>Year</th>\n",
       "      <th>State Code</th>\n",
       "      <th>State Name</th>\n",
       "      <th>RH(%)</th>\n",
       "      <th>Temperature(C)</th>\n",
       "      <th>Temperature(C) Max Value</th>\n",
       "      <th>Barometric pressure(mb)</th>\n",
       "      <th>Wind Speed(kn)</th>\n",
       "      <th>Wind Direction(deg)</th>\n",
       "      <th>year_meas_id</th>\n",
       "    </tr>\n",
       "  </thead>\n",
       "  <tbody>\n",
       "    <tr>\n",
       "      <th>0</th>\n",
       "      <td>2004</td>\n",
       "      <td>1</td>\n",
       "      <td>Alabama</td>\n",
       "      <td>72.174107</td>\n",
       "      <td>NaN</td>\n",
       "      <td>NaN</td>\n",
       "      <td>NaN</td>\n",
       "      <td>NaN</td>\n",
       "      <td>NaN</td>\n",
       "      <td>1_2004</td>\n",
       "    </tr>\n",
       "    <tr>\n",
       "      <th>1</th>\n",
       "      <td>2004</td>\n",
       "      <td>2</td>\n",
       "      <td>Alaska</td>\n",
       "      <td>73.875565</td>\n",
       "      <td>0.086509</td>\n",
       "      <td>4.048600</td>\n",
       "      <td>NaN</td>\n",
       "      <td>1.964803</td>\n",
       "      <td>176.855277</td>\n",
       "      <td>2_2004</td>\n",
       "    </tr>\n",
       "    <tr>\n",
       "      <th>2</th>\n",
       "      <td>2004</td>\n",
       "      <td>4</td>\n",
       "      <td>Arizona</td>\n",
       "      <td>39.861618</td>\n",
       "      <td>18.867207</td>\n",
       "      <td>25.458893</td>\n",
       "      <td>NaN</td>\n",
       "      <td>5.613356</td>\n",
       "      <td>169.300873</td>\n",
       "      <td>4_2004</td>\n",
       "    </tr>\n",
       "    <tr>\n",
       "      <th>3</th>\n",
       "      <td>2004</td>\n",
       "      <td>5</td>\n",
       "      <td>Arkansas</td>\n",
       "      <td>70.713115</td>\n",
       "      <td>NaN</td>\n",
       "      <td>NaN</td>\n",
       "      <td>NaN</td>\n",
       "      <td>NaN</td>\n",
       "      <td>NaN</td>\n",
       "      <td>5_2004</td>\n",
       "    </tr>\n",
       "    <tr>\n",
       "      <th>4</th>\n",
       "      <td>2004</td>\n",
       "      <td>6</td>\n",
       "      <td>California</td>\n",
       "      <td>61.169253</td>\n",
       "      <td>15.986932</td>\n",
       "      <td>21.966234</td>\n",
       "      <td>987.820343</td>\n",
       "      <td>3.877942</td>\n",
       "      <td>189.534512</td>\n",
       "      <td>6_2004</td>\n",
       "    </tr>\n",
       "  </tbody>\n",
       "</table>\n",
       "</div>"
      ],
      "text/plain": [
       "   Year  State Code  State Name      RH(%)  Temperature(C)  \\\n",
       "0  2004           1     Alabama  72.174107             NaN   \n",
       "1  2004           2      Alaska  73.875565        0.086509   \n",
       "2  2004           4     Arizona  39.861618       18.867207   \n",
       "3  2004           5    Arkansas  70.713115             NaN   \n",
       "4  2004           6  California  61.169253       15.986932   \n",
       "\n",
       "   Temperature(C) Max Value  Barometric pressure(mb)  Wind Speed(kn)  \\\n",
       "0                       NaN                      NaN             NaN   \n",
       "1                  4.048600                      NaN        1.964803   \n",
       "2                 25.458893                      NaN        5.613356   \n",
       "3                       NaN                      NaN             NaN   \n",
       "4                 21.966234               987.820343        3.877942   \n",
       "\n",
       "   Wind Direction(deg) year_meas_id  \n",
       "0                  NaN       1_2004  \n",
       "1           176.855277       2_2004  \n",
       "2           169.300873       4_2004  \n",
       "3                  NaN       5_2004  \n",
       "4           189.534512       6_2004  "
      ]
     },
     "execution_count": 16,
     "metadata": {},
     "output_type": "execute_result"
    }
   ],
   "source": [
    "df_yearly.head()"
   ]
  },
  {
   "cell_type": "code",
   "execution_count": 17,
   "id": "8cce25e3-8d7e-4915-907d-d87c3f850204",
   "metadata": {},
   "outputs": [],
   "source": [
    "#Export to csv\n",
    "df_yearly.to_csv(\"weather_data_yearly.csv\", index=False)"
   ]
  }
 ],
 "metadata": {
  "kernelspec": {
   "display_name": "Python 3 (ipykernel)",
   "language": "python",
   "name": "python3"
  },
  "language_info": {
   "codemirror_mode": {
    "name": "ipython",
    "version": 3
   },
   "file_extension": ".py",
   "mimetype": "text/x-python",
   "name": "python",
   "nbconvert_exporter": "python",
   "pygments_lexer": "ipython3",
   "version": "3.9.17"
  }
 },
 "nbformat": 4,
 "nbformat_minor": 5
}
