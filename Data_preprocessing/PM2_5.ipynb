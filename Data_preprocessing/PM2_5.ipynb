{
 "cells": [
  {
   "cell_type": "code",
   "execution_count": 1,
   "id": "9dbc44d5-8af5-43ae-a512-1da88546f6f8",
   "metadata": {},
   "outputs": [],
   "source": [
    "import pandas as pd\n",
    "import glob"
   ]
  },
  {
   "cell_type": "markdown",
   "id": "18727b6b-5d4c-4a34-9e56-1a01bc85f5b6",
   "metadata": {},
   "source": [
    "### Import and concatenate all PM2.5 csv files into one"
   ]
  },
  {
   "cell_type": "code",
   "execution_count": 2,
   "id": "887c3b5d-7bae-4ef5-b57e-32a28017e201",
   "metadata": {},
   "outputs": [],
   "source": [
    "# Path to the directory containing CSV files \n",
    "csv_files_path = r\"C:\\Users\\stlva\\Documents\\Python_Scripts\\Data_analytics_bootcamp\\air-quality-and-weather-analysis\\Data\\PM2.5\\*.csv\" # Adjust this path as necessary \n",
    "\n",
    "# Use glob to get all CSV file paths \n",
    "csv_files = glob.glob(csv_files_path) \n",
    "\n",
    "# Use list comprehension to read all CSV files and concatenate them into a single DataFrame \n",
    "PM2_5_df = pd.concat([pd.read_csv(file,low_memory=False) for file in csv_files], ignore_index=True) \n",
    "\n",
    "# Now PM2_5_df contains all the data from the 20 CSV files \n"
   ]
  },
  {
   "cell_type": "markdown",
   "id": "5ebd8547-bb39-474a-9995-21d61d96529c",
   "metadata": {},
   "source": [
    "### Data cleaning and preprocessing"
   ]
  },
  {
   "cell_type": "code",
   "execution_count": 3,
   "id": "95ccec14-46df-4025-95f5-4bdb49e0f41c",
   "metadata": {},
   "outputs": [],
   "source": [
    "# Drop unwanted columns\n",
    "PM2_5_df.drop(['Parameter Code', \n",
    "            'Sample Duration', \n",
    "            'Pollutant Standard', \n",
    "            'Event Type', \n",
    "            'Observation Count', \n",
    "            'Observation Percent',\n",
    "            'Method Code', \n",
    "            'Method Name',  \n",
    "            'Local Site Name', \n",
    "            'Address', \n",
    "            'Date of Last Change'],axis=1,inplace=True)"
   ]
  },
  {
   "cell_type": "code",
   "execution_count": 4,
   "id": "461692f3-1d0a-4a9c-82c0-d4615d6295ab",
   "metadata": {},
   "outputs": [],
   "source": [
    "# Drop Canada\n",
    "PM2_5_df.drop(PM2_5_df[(PM2_5_df['State Code']=='CC')].index,inplace=True)\n",
    "\n",
    "# Change State Code dtype to int64\n",
    "PM2_5_df['State Code'] = PM2_5_df['State Code'].astype('int64')\n",
    "\n",
    "# Drop Mexico, Virgin Islands and Puerto Rico\n",
    "PM2_5_df.drop(PM2_5_df[(PM2_5_df['State Code']==80)|(PM2_5_df['State Code']==78)|(PM2_5_df['State Code']==72)].index,inplace=True)"
   ]
  },
  {
   "cell_type": "code",
   "execution_count": 5,
   "id": "6f88033c-fdfd-4b18-97c3-3d40892bb7a1",
   "metadata": {},
   "outputs": [],
   "source": [
    "# Aggregating so we have 1 measurement per station per day per parameter\n",
    "PM2_5_df = PM2_5_df.groupby(['State Code', \n",
    "                       'State Name', \n",
    "                       'County Code', \n",
    "                       'County Name', \n",
    "                       'City Name', \n",
    "                       'Site Num', \n",
    "                       'Datum', \n",
    "                       'Latitude', \n",
    "                       'Longitude', \n",
    "                       'Date Local', \n",
    "                       'Parameter Name', \n",
    "                       'Units of Measure']).agg({'Arithmetic Mean':'mean', '1st Max Value':'max','1st Max Hour':'max','CBSA Name':'first','AQI':'mean'}).reset_index()"
   ]
  },
  {
   "cell_type": "code",
   "execution_count": 6,
   "id": "fc8be73f-ac12-4f43-85dc-98fd989b43b3",
   "metadata": {},
   "outputs": [],
   "source": [
    "# Create unique identifier for each measurement\n",
    "PM2_5_df['measurement_id'] = PM2_5_df['State Code'].apply(str) + '_' + PM2_5_df['County Code'].apply(str) + '_' + PM2_5_df['Site Num'].apply(str) + '_' + PM2_5_df['Date Local'].str.replace('-','')"
   ]
  },
  {
   "cell_type": "code",
   "execution_count": 7,
   "id": "9420cec9-5d05-4de0-b546-903cc7b0d52b",
   "metadata": {},
   "outputs": [
    {
     "data": {
      "text/plain": [
       "array(['PM2.5 - Local Conditions'], dtype=object)"
      ]
     },
     "execution_count": 7,
     "metadata": {},
     "output_type": "execute_result"
    }
   ],
   "source": [
    "# checking for the parameters included in the dataframe\n",
    "PM2_5_df['Parameter Name'].unique()"
   ]
  },
  {
   "cell_type": "code",
   "execution_count": 8,
   "id": "29a7985d-743b-4c74-8cfd-ac73014066e9",
   "metadata": {},
   "outputs": [],
   "source": [
    "# Renaming column to match the value measured and droping unnecessary columns\n",
    "PM2_5_df.rename(columns={'Arithmetic Mean':'PM2_5(µg/m³ LC)','1st Max Value':'PM2_5(µg/m³ LC) Max Value', '1st Max Hour':'PM2_5(µg/m³ LC) Max Hour'},inplace=True)\n",
    "PM2_5_df.drop(['Parameter Name', 'Units of Measure'],axis=1,inplace=True)"
   ]
  },
  {
   "cell_type": "code",
   "execution_count": 9,
   "id": "f83e9b23-4627-47c3-b2c6-1a7540834ed4",
   "metadata": {},
   "outputs": [],
   "source": [
    "# Convert date column to datetime\n",
    "PM2_5_df['Date Local'] = pd.to_datetime(PM2_5_df['Date Local'])"
   ]
  },
  {
   "cell_type": "code",
   "execution_count": 11,
   "id": "7ba03314-799f-44e8-807e-682709568f5e",
   "metadata": {},
   "outputs": [
    {
     "data": {
      "text/html": [
       "<div>\n",
       "<style scoped>\n",
       "    .dataframe tbody tr th:only-of-type {\n",
       "        vertical-align: middle;\n",
       "    }\n",
       "\n",
       "    .dataframe tbody tr th {\n",
       "        vertical-align: top;\n",
       "    }\n",
       "\n",
       "    .dataframe thead th {\n",
       "        text-align: right;\n",
       "    }\n",
       "</style>\n",
       "<table border=\"1\" class=\"dataframe\">\n",
       "  <thead>\n",
       "    <tr style=\"text-align: right;\">\n",
       "      <th></th>\n",
       "      <th>State Code</th>\n",
       "      <th>State Name</th>\n",
       "      <th>County Code</th>\n",
       "      <th>County Name</th>\n",
       "      <th>City Name</th>\n",
       "      <th>Site Num</th>\n",
       "      <th>Datum</th>\n",
       "      <th>Latitude</th>\n",
       "      <th>Longitude</th>\n",
       "      <th>Date Local</th>\n",
       "      <th>PM2_5(µg/m³ LC)</th>\n",
       "      <th>PM2_5(µg/m³ LC) Max Value</th>\n",
       "      <th>PM2_5(µg/m³ LC) Max Hour</th>\n",
       "      <th>CBSA Name</th>\n",
       "      <th>AQI</th>\n",
       "      <th>measurement_id</th>\n",
       "    </tr>\n",
       "  </thead>\n",
       "  <tbody>\n",
       "    <tr>\n",
       "      <th>0</th>\n",
       "      <td>1</td>\n",
       "      <td>Alabama</td>\n",
       "      <td>3</td>\n",
       "      <td>Baldwin</td>\n",
       "      <td>Fairhope</td>\n",
       "      <td>10</td>\n",
       "      <td>NAD83</td>\n",
       "      <td>30.497478</td>\n",
       "      <td>-87.880258</td>\n",
       "      <td>2004-01-01</td>\n",
       "      <td>18.5</td>\n",
       "      <td>18.5</td>\n",
       "      <td>0</td>\n",
       "      <td>Daphne-Fairhope-Foley, AL</td>\n",
       "      <td>64.0</td>\n",
       "      <td>1_3_10_20040101</td>\n",
       "    </tr>\n",
       "    <tr>\n",
       "      <th>1</th>\n",
       "      <td>1</td>\n",
       "      <td>Alabama</td>\n",
       "      <td>3</td>\n",
       "      <td>Baldwin</td>\n",
       "      <td>Fairhope</td>\n",
       "      <td>10</td>\n",
       "      <td>NAD83</td>\n",
       "      <td>30.497478</td>\n",
       "      <td>-87.880258</td>\n",
       "      <td>2004-01-04</td>\n",
       "      <td>4.0</td>\n",
       "      <td>4.0</td>\n",
       "      <td>0</td>\n",
       "      <td>Daphne-Fairhope-Foley, AL</td>\n",
       "      <td>17.0</td>\n",
       "      <td>1_3_10_20040104</td>\n",
       "    </tr>\n",
       "    <tr>\n",
       "      <th>2</th>\n",
       "      <td>1</td>\n",
       "      <td>Alabama</td>\n",
       "      <td>3</td>\n",
       "      <td>Baldwin</td>\n",
       "      <td>Fairhope</td>\n",
       "      <td>10</td>\n",
       "      <td>NAD83</td>\n",
       "      <td>30.497478</td>\n",
       "      <td>-87.880258</td>\n",
       "      <td>2004-01-07</td>\n",
       "      <td>5.6</td>\n",
       "      <td>5.6</td>\n",
       "      <td>0</td>\n",
       "      <td>Daphne-Fairhope-Foley, AL</td>\n",
       "      <td>23.0</td>\n",
       "      <td>1_3_10_20040107</td>\n",
       "    </tr>\n",
       "    <tr>\n",
       "      <th>3</th>\n",
       "      <td>1</td>\n",
       "      <td>Alabama</td>\n",
       "      <td>3</td>\n",
       "      <td>Baldwin</td>\n",
       "      <td>Fairhope</td>\n",
       "      <td>10</td>\n",
       "      <td>NAD83</td>\n",
       "      <td>30.497478</td>\n",
       "      <td>-87.880258</td>\n",
       "      <td>2004-01-10</td>\n",
       "      <td>16.4</td>\n",
       "      <td>16.4</td>\n",
       "      <td>0</td>\n",
       "      <td>Daphne-Fairhope-Foley, AL</td>\n",
       "      <td>60.0</td>\n",
       "      <td>1_3_10_20040110</td>\n",
       "    </tr>\n",
       "    <tr>\n",
       "      <th>4</th>\n",
       "      <td>1</td>\n",
       "      <td>Alabama</td>\n",
       "      <td>3</td>\n",
       "      <td>Baldwin</td>\n",
       "      <td>Fairhope</td>\n",
       "      <td>10</td>\n",
       "      <td>NAD83</td>\n",
       "      <td>30.497478</td>\n",
       "      <td>-87.880258</td>\n",
       "      <td>2004-01-13</td>\n",
       "      <td>16.4</td>\n",
       "      <td>16.4</td>\n",
       "      <td>0</td>\n",
       "      <td>Daphne-Fairhope-Foley, AL</td>\n",
       "      <td>60.0</td>\n",
       "      <td>1_3_10_20040113</td>\n",
       "    </tr>\n",
       "  </tbody>\n",
       "</table>\n",
       "</div>"
      ],
      "text/plain": [
       "   State Code State Name  County Code County Name City Name  Site Num  Datum  \\\n",
       "0           1    Alabama            3     Baldwin  Fairhope        10  NAD83   \n",
       "1           1    Alabama            3     Baldwin  Fairhope        10  NAD83   \n",
       "2           1    Alabama            3     Baldwin  Fairhope        10  NAD83   \n",
       "3           1    Alabama            3     Baldwin  Fairhope        10  NAD83   \n",
       "4           1    Alabama            3     Baldwin  Fairhope        10  NAD83   \n",
       "\n",
       "    Latitude  Longitude Date Local  PM2_5(µg/m³ LC)  \\\n",
       "0  30.497478 -87.880258 2004-01-01             18.5   \n",
       "1  30.497478 -87.880258 2004-01-04              4.0   \n",
       "2  30.497478 -87.880258 2004-01-07              5.6   \n",
       "3  30.497478 -87.880258 2004-01-10             16.4   \n",
       "4  30.497478 -87.880258 2004-01-13             16.4   \n",
       "\n",
       "   PM2_5(µg/m³ LC) Max Value  PM2_5(µg/m³ LC) Max Hour  \\\n",
       "0                       18.5                         0   \n",
       "1                        4.0                         0   \n",
       "2                        5.6                         0   \n",
       "3                       16.4                         0   \n",
       "4                       16.4                         0   \n",
       "\n",
       "                   CBSA Name   AQI   measurement_id  \n",
       "0  Daphne-Fairhope-Foley, AL  64.0  1_3_10_20040101  \n",
       "1  Daphne-Fairhope-Foley, AL  17.0  1_3_10_20040104  \n",
       "2  Daphne-Fairhope-Foley, AL  23.0  1_3_10_20040107  \n",
       "3  Daphne-Fairhope-Foley, AL  60.0  1_3_10_20040110  \n",
       "4  Daphne-Fairhope-Foley, AL  60.0  1_3_10_20040113  "
      ]
     },
     "execution_count": 11,
     "metadata": {},
     "output_type": "execute_result"
    }
   ],
   "source": [
    "PM2_5_df.head()"
   ]
  },
  {
   "cell_type": "code",
   "execution_count": 12,
   "id": "cf922fd2-4cda-466d-95ee-2a5f24f15766",
   "metadata": {},
   "outputs": [],
   "source": [
    "#Saving final df to csv\n",
    "#PM2_5_df.to_csv(r\"C:\\Users\\stlva\\Documents\\Python_Scripts\\Data_analytics_bootcamp\\air-quality-and-weather-analysis\\Cleaning\\all_PM2_5_clean.csv\",index=False)\n",
    "PM2_5_df.to_csv(r\"C:\\Users\\stlva\\Google Drive\\Big blue data academy\\main_branch\\concatenated data\\all_PM2_5_clean.csv\",index=False)"
   ]
  },
  {
   "cell_type": "code",
   "execution_count": null,
   "id": "0f6721e1-128a-4734-9f12-830728820707",
   "metadata": {},
   "outputs": [],
   "source": []
  }
 ],
 "metadata": {
  "kernelspec": {
   "display_name": "Python 3 (ipykernel)",
   "language": "python",
   "name": "python3"
  },
  "language_info": {
   "codemirror_mode": {
    "name": "ipython",
    "version": 3
   },
   "file_extension": ".py",
   "mimetype": "text/x-python",
   "name": "python",
   "nbconvert_exporter": "python",
   "pygments_lexer": "ipython3",
   "version": "3.9.17"
  }
 },
 "nbformat": 4,
 "nbformat_minor": 5
}
