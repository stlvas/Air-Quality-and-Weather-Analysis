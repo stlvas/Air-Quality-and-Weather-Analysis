{
 "cells": [
  {
   "cell_type": "code",
   "execution_count": 1,
   "id": "2907d73d-a3bb-4c76-9e1b-e1911f7915bf",
   "metadata": {},
   "outputs": [],
   "source": [
    "import pandas as pd\n",
    "import glob "
   ]
  },
  {
   "cell_type": "markdown",
   "id": "f5f744d3-7825-408a-93d6-f6af868d7477",
   "metadata": {},
   "source": [
    "### Import and concatenate all temperature csv files into one"
   ]
  },
  {
   "cell_type": "code",
   "execution_count": 2,
   "id": "c094c20b-3e74-4690-a799-67f7c7277aec",
   "metadata": {},
   "outputs": [],
   "source": [
    "# Path to the directory containing CSV files \n",
    "csv_files_path = r\"C:\\Users\\stlva\\Documents\\Python_Scripts\\Data_analytics_bootcamp\\air-quality-and-weather-analysis\\Data\\Temperature\\*.csv\" # Adjust this path as necessary \n",
    "\n",
    "# Use glob to get all CSV file paths \n",
    "csv_files = glob.glob(csv_files_path) \n",
    "\n",
    "# Use list comprehension to read all CSV files and concatenate them into a single DataFrame \n",
    "temp_df = pd.concat([pd.read_csv(file,low_memory=False) for file in csv_files], ignore_index=True) \n",
    "\n",
    "# Now temp_df contains all the data from the 20 CSV files "
   ]
  },
  {
   "cell_type": "markdown",
   "id": "20283c5a-f78f-494d-85f1-03818f64e457",
   "metadata": {},
   "source": [
    "### Data cleaning and preprocessing"
   ]
  },
  {
   "cell_type": "code",
   "execution_count": 3,
   "id": "62e774dc-1a36-4c48-b665-70122ab3dc2d",
   "metadata": {},
   "outputs": [],
   "source": [
    "#Drop unwanted columns\n",
    "temp_df.drop(['Parameter Code',\n",
    "              'Sample Duration', \n",
    "              'Pollutant Standard', \n",
    "              'Event Type', \n",
    "              'Observation Count', \n",
    "              'Observation Percent', \n",
    "              'AQI', \n",
    "              'Method Code', \n",
    "              'Method Name', \n",
    "              'Local Site Name', \n",
    "              'Address', \n",
    "              'Date of Last Change'],axis=1,inplace=True)"
   ]
  },
  {
   "cell_type": "code",
   "execution_count": 4,
   "id": "ea3ed5df-75e7-416a-8a52-4b0171ebb96a",
   "metadata": {},
   "outputs": [],
   "source": [
    "#Grouping by so we have 1 measurement per station per day per\n",
    "temp_df = temp_df.groupby(['State Code', \n",
    "                           'State Name', \n",
    "                           'County Code', \n",
    "                           'County Name', \n",
    "                           'City Name', \n",
    "                           'Site Num', \n",
    "                           'Datum', \n",
    "                           'Latitude', \n",
    "                           'Longitude', \n",
    "                           'Date Local', \n",
    "                           'Parameter Name', \n",
    "                           'Units of Measure']).agg({'Arithmetic Mean':'mean', '1st Max Value':'max','1st Max Hour':'max','CBSA Name':'first'}).reset_index()"
   ]
  },
  {
   "cell_type": "code",
   "execution_count": 5,
   "id": "aa3821bc-f331-42e7-878b-03253af9b940",
   "metadata": {},
   "outputs": [],
   "source": [
    "#Drop Mexico, Virgin Islands and Puerto Rico\n",
    "temp_df.drop(temp_df[(temp_df['State Code']==80)|(temp_df['State Code']==78)|(temp_df['State Code']==72)].index,inplace=True)"
   ]
  },
  {
   "cell_type": "code",
   "execution_count": 6,
   "id": "3799e20f-a512-4742-b6de-e84cba2585f5",
   "metadata": {},
   "outputs": [],
   "source": [
    "#Renaming column to match the value measured and droping unnecessary columns\n",
    "temp_df.rename(columns={'Arithmetic Mean':'Temperature(F)','1st Max Value':'Temperature(F) Max Value', '1st Max Hour':'Temperature(F) Max Hour'},inplace=True)\n",
    "temp_df.drop(['Parameter Name', 'Units of Measure'],axis=1,inplace=True)"
   ]
  },
  {
   "cell_type": "code",
   "execution_count": 7,
   "id": "87c0cf10-1a14-4db7-8f72-9f87222443c2",
   "metadata": {},
   "outputs": [],
   "source": [
    "#create unique identifier for each measurement\n",
    "temp_df['measurement_id'] = temp_df['State Code'].apply(str) + '_' + temp_df['County Code'].apply(str) + '_' + temp_df['Site Num'].apply(str) + '_' + temp_df['Date Local'].str.replace('-','')"
   ]
  },
  {
   "cell_type": "code",
   "execution_count": 8,
   "id": "0432c29e-0658-4edd-afbc-d30c2ffdde04",
   "metadata": {},
   "outputs": [],
   "source": [
    "#Convert date column to datetime\n",
    "temp_df['Date Local'] = pd.to_datetime(temp_df['Date Local'])"
   ]
  },
  {
   "cell_type": "code",
   "execution_count": 9,
   "id": "e5c28405-8c22-41dc-9134-3cb963da1be2",
   "metadata": {},
   "outputs": [],
   "source": [
    "#Fahrenheit to Celsius conversion\n",
    "temp_df['Temperature(F)'] =((( temp_df['Temperature(F)'] - 32 ) * 5 )/ 9).round(2)\n",
    "temp_df.rename(columns={'Temperature(F)':'Temperature(C)'}, inplace=True)\n",
    "temp_df['Temperature(F) Max Value'] = ((( temp_df['Temperature(F) Max Value'] - 32 ) * 5) / 9).round(2)\n",
    "temp_df.rename(columns={'Temperature(F) Max Value':'Temperature(C) Max Value'}, inplace=True)"
   ]
  },
  {
   "cell_type": "code",
   "execution_count": 10,
   "id": "5f15339a-00c8-424b-bd08-12fa936d7a66",
   "metadata": {},
   "outputs": [
    {
     "name": "stderr",
     "output_type": "stream",
     "text": [
      "C:\\Users\\stlva\\AppData\\Local\\Temp\\ipykernel_18436\\3563470284.py:11: SettingWithCopyWarning: \n",
      "A value is trying to be set on a copy of a slice from a DataFrame\n",
      "\n",
      "See the caveats in the documentation: https://pandas.pydata.org/pandas-docs/stable/user_guide/indexing.html#returning-a-view-versus-a-copy\n",
      "  temp_df[['Temperature(C)','Temperature(C) Max Value']].interpolate(method='linear', inplace=True)\n"
     ]
    }
   ],
   "source": [
    "#Clearing outliers\n",
    "\n",
    "#Define reasonable ranges\n",
    "reasonable_temp_range = (-50, 50)  # Celsius\n",
    "\n",
    "# Filter out unreasonable values for temperature\n",
    "temp_df.loc[~temp_df['Temperature(C)'].between(*reasonable_temp_range), 'Temperature(C)'] = None\n",
    "temp_df.loc[~temp_df['Temperature(C) Max Value'].between(*reasonable_temp_range), 'Temperature(C) Max Value'] = None\n",
    "\n",
    "# Apply linear interpolation to fill NaN values\n",
    "temp_df[['Temperature(C)','Temperature(C) Max Value']].interpolate(method='linear', inplace=True)"
   ]
  },
  {
   "cell_type": "code",
   "execution_count": 11,
   "id": "579451ae-0242-4530-a374-9cc2bd6581c1",
   "metadata": {},
   "outputs": [
    {
     "data": {
      "text/html": [
       "<div>\n",
       "<style scoped>\n",
       "    .dataframe tbody tr th:only-of-type {\n",
       "        vertical-align: middle;\n",
       "    }\n",
       "\n",
       "    .dataframe tbody tr th {\n",
       "        vertical-align: top;\n",
       "    }\n",
       "\n",
       "    .dataframe thead th {\n",
       "        text-align: right;\n",
       "    }\n",
       "</style>\n",
       "<table border=\"1\" class=\"dataframe\">\n",
       "  <thead>\n",
       "    <tr style=\"text-align: right;\">\n",
       "      <th></th>\n",
       "      <th>State Code</th>\n",
       "      <th>State Name</th>\n",
       "      <th>County Code</th>\n",
       "      <th>County Name</th>\n",
       "      <th>City Name</th>\n",
       "      <th>Site Num</th>\n",
       "      <th>Datum</th>\n",
       "      <th>Latitude</th>\n",
       "      <th>Longitude</th>\n",
       "      <th>Date Local</th>\n",
       "      <th>Temperature(C)</th>\n",
       "      <th>Temperature(C) Max Value</th>\n",
       "      <th>Temperature(F) Max Hour</th>\n",
       "      <th>CBSA Name</th>\n",
       "      <th>measurement_id</th>\n",
       "    </tr>\n",
       "  </thead>\n",
       "  <tbody>\n",
       "    <tr>\n",
       "      <th>0</th>\n",
       "      <td>1</td>\n",
       "      <td>Alabama</td>\n",
       "      <td>33</td>\n",
       "      <td>Colbert</td>\n",
       "      <td>Not in a city</td>\n",
       "      <td>1003</td>\n",
       "      <td>WGS84</td>\n",
       "      <td>34.7589</td>\n",
       "      <td>-88.0138</td>\n",
       "      <td>2009-05-06</td>\n",
       "      <td>20.69</td>\n",
       "      <td>23.33</td>\n",
       "      <td>16</td>\n",
       "      <td>Florence-Muscle Shoals, AL</td>\n",
       "      <td>1_33_1003_20090506</td>\n",
       "    </tr>\n",
       "    <tr>\n",
       "      <th>1</th>\n",
       "      <td>1</td>\n",
       "      <td>Alabama</td>\n",
       "      <td>33</td>\n",
       "      <td>Colbert</td>\n",
       "      <td>Not in a city</td>\n",
       "      <td>1003</td>\n",
       "      <td>WGS84</td>\n",
       "      <td>34.7589</td>\n",
       "      <td>-88.0138</td>\n",
       "      <td>2009-05-07</td>\n",
       "      <td>22.71</td>\n",
       "      <td>29.44</td>\n",
       "      <td>16</td>\n",
       "      <td>Florence-Muscle Shoals, AL</td>\n",
       "      <td>1_33_1003_20090507</td>\n",
       "    </tr>\n",
       "    <tr>\n",
       "      <th>2</th>\n",
       "      <td>1</td>\n",
       "      <td>Alabama</td>\n",
       "      <td>33</td>\n",
       "      <td>Colbert</td>\n",
       "      <td>Not in a city</td>\n",
       "      <td>1003</td>\n",
       "      <td>WGS84</td>\n",
       "      <td>34.7589</td>\n",
       "      <td>-88.0138</td>\n",
       "      <td>2009-05-08</td>\n",
       "      <td>25.44</td>\n",
       "      <td>29.44</td>\n",
       "      <td>15</td>\n",
       "      <td>Florence-Muscle Shoals, AL</td>\n",
       "      <td>1_33_1003_20090508</td>\n",
       "    </tr>\n",
       "    <tr>\n",
       "      <th>3</th>\n",
       "      <td>1</td>\n",
       "      <td>Alabama</td>\n",
       "      <td>33</td>\n",
       "      <td>Colbert</td>\n",
       "      <td>Not in a city</td>\n",
       "      <td>1003</td>\n",
       "      <td>WGS84</td>\n",
       "      <td>34.7589</td>\n",
       "      <td>-88.0138</td>\n",
       "      <td>2009-05-09</td>\n",
       "      <td>21.83</td>\n",
       "      <td>26.11</td>\n",
       "      <td>14</td>\n",
       "      <td>Florence-Muscle Shoals, AL</td>\n",
       "      <td>1_33_1003_20090509</td>\n",
       "    </tr>\n",
       "    <tr>\n",
       "      <th>4</th>\n",
       "      <td>1</td>\n",
       "      <td>Alabama</td>\n",
       "      <td>33</td>\n",
       "      <td>Colbert</td>\n",
       "      <td>Not in a city</td>\n",
       "      <td>1003</td>\n",
       "      <td>WGS84</td>\n",
       "      <td>34.7589</td>\n",
       "      <td>-88.0138</td>\n",
       "      <td>2009-05-10</td>\n",
       "      <td>17.15</td>\n",
       "      <td>18.89</td>\n",
       "      <td>15</td>\n",
       "      <td>Florence-Muscle Shoals, AL</td>\n",
       "      <td>1_33_1003_20090510</td>\n",
       "    </tr>\n",
       "  </tbody>\n",
       "</table>\n",
       "</div>"
      ],
      "text/plain": [
       "   State Code State Name  County Code County Name      City Name  Site Num  \\\n",
       "0           1    Alabama           33     Colbert  Not in a city      1003   \n",
       "1           1    Alabama           33     Colbert  Not in a city      1003   \n",
       "2           1    Alabama           33     Colbert  Not in a city      1003   \n",
       "3           1    Alabama           33     Colbert  Not in a city      1003   \n",
       "4           1    Alabama           33     Colbert  Not in a city      1003   \n",
       "\n",
       "   Datum  Latitude  Longitude Date Local  Temperature(C)  \\\n",
       "0  WGS84   34.7589   -88.0138 2009-05-06           20.69   \n",
       "1  WGS84   34.7589   -88.0138 2009-05-07           22.71   \n",
       "2  WGS84   34.7589   -88.0138 2009-05-08           25.44   \n",
       "3  WGS84   34.7589   -88.0138 2009-05-09           21.83   \n",
       "4  WGS84   34.7589   -88.0138 2009-05-10           17.15   \n",
       "\n",
       "   Temperature(C) Max Value  Temperature(F) Max Hour  \\\n",
       "0                     23.33                       16   \n",
       "1                     29.44                       16   \n",
       "2                     29.44                       15   \n",
       "3                     26.11                       14   \n",
       "4                     18.89                       15   \n",
       "\n",
       "                    CBSA Name      measurement_id  \n",
       "0  Florence-Muscle Shoals, AL  1_33_1003_20090506  \n",
       "1  Florence-Muscle Shoals, AL  1_33_1003_20090507  \n",
       "2  Florence-Muscle Shoals, AL  1_33_1003_20090508  \n",
       "3  Florence-Muscle Shoals, AL  1_33_1003_20090509  \n",
       "4  Florence-Muscle Shoals, AL  1_33_1003_20090510  "
      ]
     },
     "execution_count": 11,
     "metadata": {},
     "output_type": "execute_result"
    }
   ],
   "source": [
    "temp_df.head()"
   ]
  },
  {
   "cell_type": "code",
   "execution_count": 12,
   "id": "421f7728-6144-4098-aca6-acd5fc52a6b8",
   "metadata": {},
   "outputs": [],
   "source": [
    "#Saving final df to csv\n",
    "#temp_df.to_csv(r\"C:\\Users\\stlva\\Documents\\Python_Scripts\\Data_analytics_bootcamp\\air-quality-and-weather-analysis\\Cleaning\\all_temperature_clean.csv\",index=False)\n",
    "temp_df.to_csv(r\"C:\\Users\\stlva\\Google Drive\\Big blue data academy\\main_branch\\concatenated data\\all_temp_clean.csv\",index=False)"
   ]
  }
 ],
 "metadata": {
  "kernelspec": {
   "display_name": "Python 3 (ipykernel)",
   "language": "python",
   "name": "python3"
  },
  "language_info": {
   "codemirror_mode": {
    "name": "ipython",
    "version": 3
   },
   "file_extension": ".py",
   "mimetype": "text/x-python",
   "name": "python",
   "nbconvert_exporter": "python",
   "pygments_lexer": "ipython3",
   "version": "3.9.17"
  }
 },
 "nbformat": 4,
 "nbformat_minor": 5
}
