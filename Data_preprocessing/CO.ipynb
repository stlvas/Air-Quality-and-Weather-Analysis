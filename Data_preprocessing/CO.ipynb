{
 "cells": [
  {
   "cell_type": "code",
   "execution_count": 1,
   "id": "5e6f723c-f9c7-4f59-a3bd-cbc8a36b669b",
   "metadata": {},
   "outputs": [],
   "source": [
    "import pandas as pd\n",
    "import glob"
   ]
  },
  {
   "cell_type": "markdown",
   "id": "8a92a2ea-f8c4-4f12-929f-651bda29d6be",
   "metadata": {},
   "source": [
    "### Import and concatenate all CO csv files into one"
   ]
  },
  {
   "cell_type": "code",
   "execution_count": 2,
   "id": "b89b8ef5-2af0-4131-982f-3ab2b185a7ed",
   "metadata": {
    "scrolled": true
   },
   "outputs": [],
   "source": [
    "# Path to the directory containing CSV files \n",
    "csv_files_path = r\"C:\\Users\\stlva\\Documents\\Python_Scripts\\Data_analytics_bootcamp\\air-quality-and-weather-analysis\\Data\\CO\\*.csv\" # Adjust this path as necessary \n",
    "\n",
    "# Use glob to get all CSV file paths \n",
    "csv_files = glob.glob(csv_files_path) \n",
    "\n",
    "# Use list comprehension to read all CSV files and concatenate them into a single DataFrame \n",
    "CO_df = pd.concat([pd.read_csv(file,low_memory=False) for file in csv_files], ignore_index=True) \n",
    "\n",
    "# Now CO_df contains all the data from the 20 CSV files \n"
   ]
  },
  {
   "cell_type": "markdown",
   "id": "fdafb426-2a4f-4948-826d-21d34a99bb8c",
   "metadata": {},
   "source": [
    "### Data cleaning and preprocessing"
   ]
  },
  {
   "cell_type": "code",
   "execution_count": 3,
   "id": "3f582b47-0592-41d8-b45d-0adbacc8dadf",
   "metadata": {},
   "outputs": [],
   "source": [
    "# Drop unwanted columns\n",
    "CO_df.drop(['Parameter Code', \n",
    "            'Sample Duration', \n",
    "            'Pollutant Standard', \n",
    "            'Event Type', \n",
    "            'Observation Count', \n",
    "            'Observation Percent',\n",
    "            'Method Code', \n",
    "            'Method Name',  \n",
    "            'Local Site Name', \n",
    "            'Address', \n",
    "            'Date of Last Change'],axis=1,inplace=True)"
   ]
  },
  {
   "cell_type": "code",
   "execution_count": 4,
   "id": "f454b2b8-cd77-492e-af7a-93f2b4034113",
   "metadata": {},
   "outputs": [],
   "source": [
    "# Aggregating so we have 1 measurement per station per day per parameter\n",
    "CO_df = CO_df.groupby(['State Code', \n",
    "                       'State Name', \n",
    "                       'County Code', \n",
    "                       'County Name', \n",
    "                       'City Name', \n",
    "                       'Site Num', \n",
    "                       'Datum', \n",
    "                       'Latitude', \n",
    "                       'Longitude', \n",
    "                       'Date Local', \n",
    "                       'Parameter Name', \n",
    "                       'Units of Measure']).agg({'Arithmetic Mean':'mean', '1st Max Value':'max','1st Max Hour':'max','CBSA Name':'first','AQI':'mean'}).reset_index()"
   ]
  },
  {
   "cell_type": "code",
   "execution_count": 5,
   "id": "4c8a67c9-2578-4a45-9001-dda46f28b1f7",
   "metadata": {},
   "outputs": [],
   "source": [
    "# Drop Mexico, Virgin Islands and Puerto Rico\n",
    "CO_df.drop(CO_df[(CO_df['State Code']==80)|(CO_df['State Code']==78)|(CO_df['State Code']==72)].index,inplace=True)"
   ]
  },
  {
   "cell_type": "code",
   "execution_count": 6,
   "id": "85c9a59b-3e66-496d-9a74-df65555201cd",
   "metadata": {},
   "outputs": [],
   "source": [
    "# Create unique identifier for each measurement\n",
    "CO_df['measurement_id'] = CO_df['State Code'].apply(str) + '_' + CO_df['County Code'].apply(str) + '_' + CO_df['Site Num'].apply(str) + '_' + CO_df['Date Local'].str.replace('-','')"
   ]
  },
  {
   "cell_type": "code",
   "execution_count": 7,
   "id": "0ce3a9bb-0b67-4138-8b53-3e25432ef945",
   "metadata": {},
   "outputs": [
    {
     "data": {
      "text/plain": [
       "array(['Carbon monoxide'], dtype=object)"
      ]
     },
     "execution_count": 7,
     "metadata": {},
     "output_type": "execute_result"
    }
   ],
   "source": [
    "# checking for the parameters included in the dataframe\n",
    "CO_df['Parameter Name'].unique()"
   ]
  },
  {
   "cell_type": "code",
   "execution_count": 8,
   "id": "d74bb6e9-0e98-4901-83eb-b78e6b716366",
   "metadata": {},
   "outputs": [],
   "source": [
    "# Renaming column to match the value measured and droping unnecessary columns\n",
    "CO_df.rename(columns={'Arithmetic Mean':'CO(ppm)','1st Max Value':'CO(ppm) Max Value', '1st Max Hour':'CO(ppm) Max Hour'},inplace=True)\n",
    "CO_df.drop(['Parameter Name', 'Units of Measure'],axis=1,inplace=True)"
   ]
  },
  {
   "cell_type": "code",
   "execution_count": 9,
   "id": "0225e8bf-153b-4690-92da-4ff82d882ccb",
   "metadata": {},
   "outputs": [],
   "source": [
    "# Convert date column to datetime\n",
    "CO_df['Date Local'] = pd.to_datetime(CO_df['Date Local'])"
   ]
  },
  {
   "cell_type": "code",
   "execution_count": 10,
   "id": "624a3e58-339b-473e-b1e8-61569d67b876",
   "metadata": {},
   "outputs": [
    {
     "data": {
      "text/html": [
       "<div>\n",
       "<style scoped>\n",
       "    .dataframe tbody tr th:only-of-type {\n",
       "        vertical-align: middle;\n",
       "    }\n",
       "\n",
       "    .dataframe tbody tr th {\n",
       "        vertical-align: top;\n",
       "    }\n",
       "\n",
       "    .dataframe thead th {\n",
       "        text-align: right;\n",
       "    }\n",
       "</style>\n",
       "<table border=\"1\" class=\"dataframe\">\n",
       "  <thead>\n",
       "    <tr style=\"text-align: right;\">\n",
       "      <th></th>\n",
       "      <th>State Code</th>\n",
       "      <th>State Name</th>\n",
       "      <th>County Code</th>\n",
       "      <th>County Name</th>\n",
       "      <th>City Name</th>\n",
       "      <th>Site Num</th>\n",
       "      <th>Datum</th>\n",
       "      <th>Latitude</th>\n",
       "      <th>Longitude</th>\n",
       "      <th>Date Local</th>\n",
       "      <th>CO(ppm)</th>\n",
       "      <th>CO(ppm) Max Value</th>\n",
       "      <th>CO(ppm) Max Hour</th>\n",
       "      <th>CBSA Name</th>\n",
       "      <th>AQI</th>\n",
       "      <th>measurement_id</th>\n",
       "    </tr>\n",
       "  </thead>\n",
       "  <tbody>\n",
       "    <tr>\n",
       "      <th>0</th>\n",
       "      <td>1</td>\n",
       "      <td>Alabama</td>\n",
       "      <td>73</td>\n",
       "      <td>Jefferson</td>\n",
       "      <td>Birmingham</td>\n",
       "      <td>23</td>\n",
       "      <td>WGS84</td>\n",
       "      <td>33.553056</td>\n",
       "      <td>-86.815</td>\n",
       "      <td>2011-01-12</td>\n",
       "      <td>0.504084</td>\n",
       "      <td>0.80</td>\n",
       "      <td>23</td>\n",
       "      <td>Birmingham-Hoover, AL</td>\n",
       "      <td>8.0</td>\n",
       "      <td>1_73_23_20110112</td>\n",
       "    </tr>\n",
       "    <tr>\n",
       "      <th>1</th>\n",
       "      <td>1</td>\n",
       "      <td>Alabama</td>\n",
       "      <td>73</td>\n",
       "      <td>Jefferson</td>\n",
       "      <td>Birmingham</td>\n",
       "      <td>23</td>\n",
       "      <td>WGS84</td>\n",
       "      <td>33.553056</td>\n",
       "      <td>-86.815</td>\n",
       "      <td>2011-01-13</td>\n",
       "      <td>0.441000</td>\n",
       "      <td>0.76</td>\n",
       "      <td>4</td>\n",
       "      <td>Birmingham-Hoover, AL</td>\n",
       "      <td>8.0</td>\n",
       "      <td>1_73_23_20110113</td>\n",
       "    </tr>\n",
       "    <tr>\n",
       "      <th>2</th>\n",
       "      <td>1</td>\n",
       "      <td>Alabama</td>\n",
       "      <td>73</td>\n",
       "      <td>Jefferson</td>\n",
       "      <td>Birmingham</td>\n",
       "      <td>23</td>\n",
       "      <td>WGS84</td>\n",
       "      <td>33.553056</td>\n",
       "      <td>-86.815</td>\n",
       "      <td>2011-01-14</td>\n",
       "      <td>0.505455</td>\n",
       "      <td>1.22</td>\n",
       "      <td>23</td>\n",
       "      <td>Birmingham-Hoover, AL</td>\n",
       "      <td>9.0</td>\n",
       "      <td>1_73_23_20110114</td>\n",
       "    </tr>\n",
       "    <tr>\n",
       "      <th>3</th>\n",
       "      <td>1</td>\n",
       "      <td>Alabama</td>\n",
       "      <td>73</td>\n",
       "      <td>Jefferson</td>\n",
       "      <td>Birmingham</td>\n",
       "      <td>23</td>\n",
       "      <td>WGS84</td>\n",
       "      <td>33.553056</td>\n",
       "      <td>-86.815</td>\n",
       "      <td>2011-01-15</td>\n",
       "      <td>0.817803</td>\n",
       "      <td>1.29</td>\n",
       "      <td>9</td>\n",
       "      <td>Birmingham-Hoover, AL</td>\n",
       "      <td>13.0</td>\n",
       "      <td>1_73_23_20110115</td>\n",
       "    </tr>\n",
       "    <tr>\n",
       "      <th>4</th>\n",
       "      <td>1</td>\n",
       "      <td>Alabama</td>\n",
       "      <td>73</td>\n",
       "      <td>Jefferson</td>\n",
       "      <td>Birmingham</td>\n",
       "      <td>23</td>\n",
       "      <td>WGS84</td>\n",
       "      <td>33.553056</td>\n",
       "      <td>-86.815</td>\n",
       "      <td>2011-01-16</td>\n",
       "      <td>0.722992</td>\n",
       "      <td>1.08</td>\n",
       "      <td>7</td>\n",
       "      <td>Birmingham-Hoover, AL</td>\n",
       "      <td>11.0</td>\n",
       "      <td>1_73_23_20110116</td>\n",
       "    </tr>\n",
       "  </tbody>\n",
       "</table>\n",
       "</div>"
      ],
      "text/plain": [
       "   State Code State Name  County Code County Name   City Name  Site Num  \\\n",
       "0           1    Alabama           73   Jefferson  Birmingham        23   \n",
       "1           1    Alabama           73   Jefferson  Birmingham        23   \n",
       "2           1    Alabama           73   Jefferson  Birmingham        23   \n",
       "3           1    Alabama           73   Jefferson  Birmingham        23   \n",
       "4           1    Alabama           73   Jefferson  Birmingham        23   \n",
       "\n",
       "   Datum   Latitude  Longitude Date Local   CO(ppm)  CO(ppm) Max Value  \\\n",
       "0  WGS84  33.553056    -86.815 2011-01-12  0.504084               0.80   \n",
       "1  WGS84  33.553056    -86.815 2011-01-13  0.441000               0.76   \n",
       "2  WGS84  33.553056    -86.815 2011-01-14  0.505455               1.22   \n",
       "3  WGS84  33.553056    -86.815 2011-01-15  0.817803               1.29   \n",
       "4  WGS84  33.553056    -86.815 2011-01-16  0.722992               1.08   \n",
       "\n",
       "   CO(ppm) Max Hour              CBSA Name   AQI    measurement_id  \n",
       "0                23  Birmingham-Hoover, AL   8.0  1_73_23_20110112  \n",
       "1                 4  Birmingham-Hoover, AL   8.0  1_73_23_20110113  \n",
       "2                23  Birmingham-Hoover, AL   9.0  1_73_23_20110114  \n",
       "3                 9  Birmingham-Hoover, AL  13.0  1_73_23_20110115  \n",
       "4                 7  Birmingham-Hoover, AL  11.0  1_73_23_20110116  "
      ]
     },
     "execution_count": 10,
     "metadata": {},
     "output_type": "execute_result"
    }
   ],
   "source": [
    "CO_df.head()"
   ]
  },
  {
   "cell_type": "code",
   "execution_count": 12,
   "id": "b8d18d9b-063f-4200-947a-59df50ea09ac",
   "metadata": {},
   "outputs": [],
   "source": [
    "#Saving final df to csv\n",
    "#CO_df.to_csv(r\"C:\\Users\\stlva\\Documents\\Python_Scripts\\Data_analytics_bootcamp\\air-quality-and-weather-analysis\\Cleaning\\all_CO_clean.csv\",index=False)\n",
    "CO_df.to_csv(r\"C:\\Users\\stlva\\Google Drive\\Big blue data academy\\main_branch\\concatenated data\\all_CO_clean.csv\",index=False)"
   ]
  },
  {
   "cell_type": "code",
   "execution_count": null,
   "id": "c3e9f91c-c45d-4079-87c7-6f620107cec7",
   "metadata": {},
   "outputs": [],
   "source": []
  }
 ],
 "metadata": {
  "kernelspec": {
   "display_name": "Python 3 (ipykernel)",
   "language": "python",
   "name": "python3"
  },
  "language_info": {
   "codemirror_mode": {
    "name": "ipython",
    "version": 3
   },
   "file_extension": ".py",
   "mimetype": "text/x-python",
   "name": "python",
   "nbconvert_exporter": "python",
   "pygments_lexer": "ipython3",
   "version": "3.9.17"
  }
 },
 "nbformat": 4,
 "nbformat_minor": 5
}
