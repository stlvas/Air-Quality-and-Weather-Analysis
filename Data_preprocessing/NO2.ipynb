{
 "cells": [
  {
   "cell_type": "code",
   "execution_count": 1,
   "id": "bff58ae3-01cf-48d5-8e87-488dec8f0652",
   "metadata": {},
   "outputs": [],
   "source": [
    "import pandas as pd\n",
    "import glob"
   ]
  },
  {
   "cell_type": "markdown",
   "id": "d39cfc91-f306-46dc-b36c-b3c063471121",
   "metadata": {},
   "source": [
    "### Import and concatenate all NO2 csv files into one"
   ]
  },
  {
   "cell_type": "code",
   "execution_count": 2,
   "id": "6096f15f-046e-4728-94b7-2c37a49c6268",
   "metadata": {},
   "outputs": [],
   "source": [
    "# Path to the directory containing CSV files \n",
    "csv_files_path = r\"C:\\Users\\stlva\\Documents\\Python_Scripts\\Data_analytics_bootcamp\\air-quality-and-weather-analysis\\Data\\NO2\\*.csv\" # Adjust this path as necessary \n",
    "\n",
    "# Use glob to get all CSV file paths \n",
    "csv_files = glob.glob(csv_files_path) \n",
    "\n",
    "# Use list comprehension to read all CSV files and concatenate them into a single DataFrame \n",
    "NO2_df = pd.concat([pd.read_csv(file,low_memory=False) for file in csv_files], ignore_index=True) \n",
    "\n",
    "# Now NO2_df contains all the data from the 20 CSV files \n"
   ]
  },
  {
   "cell_type": "markdown",
   "id": "8c1cb6a8-3863-4652-9974-f50716b6977b",
   "metadata": {},
   "source": [
    "### Data cleaning and preprocessing"
   ]
  },
  {
   "cell_type": "code",
   "execution_count": 3,
   "id": "70ef57c0-1b1d-4e5a-9351-5ac4508de6ca",
   "metadata": {},
   "outputs": [],
   "source": [
    "# Drop unwanted columns\n",
    "NO2_df.drop(['Parameter Code', \n",
    "            'Sample Duration', \n",
    "            'Pollutant Standard', \n",
    "            'Event Type', \n",
    "            'Observation Count', \n",
    "            'Observation Percent',\n",
    "            'Method Code', \n",
    "            'Method Name',  \n",
    "            'Local Site Name', \n",
    "            'Address', \n",
    "            'Date of Last Change'],axis=1,inplace=True)"
   ]
  },
  {
   "cell_type": "code",
   "execution_count": 4,
   "id": "51931868-109b-4890-b5d3-7365c6458161",
   "metadata": {},
   "outputs": [],
   "source": [
    "# Drop Canada\n",
    "NO2_df.drop(NO2_df[(NO2_df['State Code']=='CC')].index,inplace=True)\n",
    "\n",
    "# Change State Code dtype to int64\n",
    "NO2_df['State Code'] = NO2_df['State Code'].astype('int64')\n",
    "\n",
    "# Drop Mexico, Virgin Islands and Puerto Rico\n",
    "NO2_df.drop(NO2_df[(NO2_df['State Code']==80)|(NO2_df['State Code']==78)|(NO2_df['State Code']==72)].index,inplace=True)"
   ]
  },
  {
   "cell_type": "code",
   "execution_count": 5,
   "id": "2a12694f-7847-4eda-a724-87f63dfd1739",
   "metadata": {},
   "outputs": [],
   "source": [
    "# Aggregating so we have 1 measurement per station per day per parameter\n",
    "NO2_df = NO2_df.groupby(['State Code', \n",
    "                       'State Name', \n",
    "                       'County Code', \n",
    "                       'County Name', \n",
    "                       'City Name', \n",
    "                       'Site Num', \n",
    "                       'Datum', \n",
    "                       'Latitude', \n",
    "                       'Longitude', \n",
    "                       'Date Local', \n",
    "                       'Parameter Name', \n",
    "                       'Units of Measure']).agg({'Arithmetic Mean':'mean', '1st Max Value':'max','1st Max Hour':'max','CBSA Name':'first','AQI':'mean'}).reset_index()"
   ]
  },
  {
   "cell_type": "code",
   "execution_count": 6,
   "id": "6920d940-35aa-4899-a49f-b468cbcbca79",
   "metadata": {},
   "outputs": [],
   "source": [
    "# Create unique identifier for each measurement\n",
    "NO2_df['measurement_id'] = NO2_df['State Code'].apply(str) + '_' + NO2_df['County Code'].apply(str) + '_' + NO2_df['Site Num'].apply(str) + '_' + NO2_df['Date Local'].str.replace('-','')"
   ]
  },
  {
   "cell_type": "code",
   "execution_count": 7,
   "id": "a805195d-0ff3-4a05-8d84-430383855091",
   "metadata": {},
   "outputs": [
    {
     "data": {
      "text/plain": [
       "array(['Nitrogen dioxide (NO2)'], dtype=object)"
      ]
     },
     "execution_count": 7,
     "metadata": {},
     "output_type": "execute_result"
    }
   ],
   "source": [
    "# checking for the parameters included in the dataframe\n",
    "NO2_df['Parameter Name'].unique()"
   ]
  },
  {
   "cell_type": "code",
   "execution_count": 8,
   "id": "b2b4968d-63a3-4f11-b63b-c5b2760a713a",
   "metadata": {},
   "outputs": [],
   "source": [
    "# Renaming column to match the value measured and droping unnecessary columns\n",
    "NO2_df.rename(columns={'Arithmetic Mean':'NO2(ppm)','1st Max Value':'NO2(ppm) Max Value', '1st Max Hour':'NO2(ppm) Max Hour'},inplace=True)\n",
    "NO2_df.drop(['Parameter Name', 'Units of Measure'],axis=1,inplace=True)"
   ]
  },
  {
   "cell_type": "code",
   "execution_count": 9,
   "id": "691cfbf5-9e63-4170-b849-3bc3a35abd1f",
   "metadata": {},
   "outputs": [],
   "source": [
    "# Convert date column to datetime\n",
    "NO2_df['Date Local'] = pd.to_datetime(NO2_df['Date Local'])"
   ]
  },
  {
   "cell_type": "code",
   "execution_count": 13,
   "id": "731f7bf6-3997-4c60-92f5-e23436f85cf6",
   "metadata": {},
   "outputs": [
    {
     "data": {
      "text/html": [
       "<div>\n",
       "<style scoped>\n",
       "    .dataframe tbody tr th:only-of-type {\n",
       "        vertical-align: middle;\n",
       "    }\n",
       "\n",
       "    .dataframe tbody tr th {\n",
       "        vertical-align: top;\n",
       "    }\n",
       "\n",
       "    .dataframe thead th {\n",
       "        text-align: right;\n",
       "    }\n",
       "</style>\n",
       "<table border=\"1\" class=\"dataframe\">\n",
       "  <thead>\n",
       "    <tr style=\"text-align: right;\">\n",
       "      <th></th>\n",
       "      <th>State Code</th>\n",
       "      <th>State Name</th>\n",
       "      <th>County Code</th>\n",
       "      <th>County Name</th>\n",
       "      <th>City Name</th>\n",
       "      <th>Site Num</th>\n",
       "      <th>Datum</th>\n",
       "      <th>Latitude</th>\n",
       "      <th>Longitude</th>\n",
       "      <th>Date Local</th>\n",
       "      <th>NO2(ppm)</th>\n",
       "      <th>NO2(ppm) Max Value</th>\n",
       "      <th>NO2(ppm) Max Hour</th>\n",
       "      <th>CBSA Name</th>\n",
       "      <th>AQI</th>\n",
       "      <th>measurement_id</th>\n",
       "    </tr>\n",
       "  </thead>\n",
       "  <tbody>\n",
       "    <tr>\n",
       "      <th>0</th>\n",
       "      <td>1</td>\n",
       "      <td>Alabama</td>\n",
       "      <td>71</td>\n",
       "      <td>Jackson</td>\n",
       "      <td>Not in a city</td>\n",
       "      <td>20</td>\n",
       "      <td>WGS84</td>\n",
       "      <td>34.877025</td>\n",
       "      <td>-85.720805</td>\n",
       "      <td>2004-02-01</td>\n",
       "      <td>3.521739</td>\n",
       "      <td>9.0</td>\n",
       "      <td>7</td>\n",
       "      <td>Scottsboro, AL</td>\n",
       "      <td>8.0</td>\n",
       "      <td>1_71_20_20040201</td>\n",
       "    </tr>\n",
       "    <tr>\n",
       "      <th>1</th>\n",
       "      <td>1</td>\n",
       "      <td>Alabama</td>\n",
       "      <td>71</td>\n",
       "      <td>Jackson</td>\n",
       "      <td>Not in a city</td>\n",
       "      <td>20</td>\n",
       "      <td>WGS84</td>\n",
       "      <td>34.877025</td>\n",
       "      <td>-85.720805</td>\n",
       "      <td>2004-02-02</td>\n",
       "      <td>7.739130</td>\n",
       "      <td>17.0</td>\n",
       "      <td>22</td>\n",
       "      <td>Scottsboro, AL</td>\n",
       "      <td>16.0</td>\n",
       "      <td>1_71_20_20040202</td>\n",
       "    </tr>\n",
       "    <tr>\n",
       "      <th>2</th>\n",
       "      <td>1</td>\n",
       "      <td>Alabama</td>\n",
       "      <td>71</td>\n",
       "      <td>Jackson</td>\n",
       "      <td>Not in a city</td>\n",
       "      <td>20</td>\n",
       "      <td>WGS84</td>\n",
       "      <td>34.877025</td>\n",
       "      <td>-85.720805</td>\n",
       "      <td>2004-02-03</td>\n",
       "      <td>4.086957</td>\n",
       "      <td>12.0</td>\n",
       "      <td>0</td>\n",
       "      <td>Scottsboro, AL</td>\n",
       "      <td>11.0</td>\n",
       "      <td>1_71_20_20040203</td>\n",
       "    </tr>\n",
       "    <tr>\n",
       "      <th>3</th>\n",
       "      <td>1</td>\n",
       "      <td>Alabama</td>\n",
       "      <td>71</td>\n",
       "      <td>Jackson</td>\n",
       "      <td>Not in a city</td>\n",
       "      <td>20</td>\n",
       "      <td>WGS84</td>\n",
       "      <td>34.877025</td>\n",
       "      <td>-85.720805</td>\n",
       "      <td>2004-02-04</td>\n",
       "      <td>6.826087</td>\n",
       "      <td>13.0</td>\n",
       "      <td>18</td>\n",
       "      <td>Scottsboro, AL</td>\n",
       "      <td>12.0</td>\n",
       "      <td>1_71_20_20040204</td>\n",
       "    </tr>\n",
       "    <tr>\n",
       "      <th>4</th>\n",
       "      <td>1</td>\n",
       "      <td>Alabama</td>\n",
       "      <td>71</td>\n",
       "      <td>Jackson</td>\n",
       "      <td>Not in a city</td>\n",
       "      <td>20</td>\n",
       "      <td>WGS84</td>\n",
       "      <td>34.877025</td>\n",
       "      <td>-85.720805</td>\n",
       "      <td>2004-02-05</td>\n",
       "      <td>5.608696</td>\n",
       "      <td>9.0</td>\n",
       "      <td>14</td>\n",
       "      <td>Scottsboro, AL</td>\n",
       "      <td>8.0</td>\n",
       "      <td>1_71_20_20040205</td>\n",
       "    </tr>\n",
       "  </tbody>\n",
       "</table>\n",
       "</div>"
      ],
      "text/plain": [
       "   State Code State Name  County Code County Name      City Name  Site Num  \\\n",
       "0           1    Alabama           71     Jackson  Not in a city        20   \n",
       "1           1    Alabama           71     Jackson  Not in a city        20   \n",
       "2           1    Alabama           71     Jackson  Not in a city        20   \n",
       "3           1    Alabama           71     Jackson  Not in a city        20   \n",
       "4           1    Alabama           71     Jackson  Not in a city        20   \n",
       "\n",
       "   Datum   Latitude  Longitude Date Local  NO2(ppm)  NO2(ppm) Max Value  \\\n",
       "0  WGS84  34.877025 -85.720805 2004-02-01  3.521739                 9.0   \n",
       "1  WGS84  34.877025 -85.720805 2004-02-02  7.739130                17.0   \n",
       "2  WGS84  34.877025 -85.720805 2004-02-03  4.086957                12.0   \n",
       "3  WGS84  34.877025 -85.720805 2004-02-04  6.826087                13.0   \n",
       "4  WGS84  34.877025 -85.720805 2004-02-05  5.608696                 9.0   \n",
       "\n",
       "   NO2(ppm) Max Hour       CBSA Name   AQI    measurement_id  \n",
       "0                  7  Scottsboro, AL   8.0  1_71_20_20040201  \n",
       "1                 22  Scottsboro, AL  16.0  1_71_20_20040202  \n",
       "2                  0  Scottsboro, AL  11.0  1_71_20_20040203  \n",
       "3                 18  Scottsboro, AL  12.0  1_71_20_20040204  \n",
       "4                 14  Scottsboro, AL   8.0  1_71_20_20040205  "
      ]
     },
     "execution_count": 13,
     "metadata": {},
     "output_type": "execute_result"
    }
   ],
   "source": [
    "NO2_df.head()"
   ]
  },
  {
   "cell_type": "code",
   "execution_count": 14,
   "id": "8419620a-b737-4ad6-ba03-72c918b796d9",
   "metadata": {},
   "outputs": [],
   "source": [
    "#Saving final df to csv\n",
    "#NO2_df.to_csv(r\"C:\\Users\\stlva\\Documents\\Python_Scripts\\Data_analytics_bootcamp\\air-quality-and-weather-analysis\\Cleaning\\all_NO2_clean.csv\",index=False)\n",
    "NO2_df.to_csv(r\"C:\\Users\\stlva\\Google Drive\\Big blue data academy\\main_branch\\concatenated data\\all_NO2_clean.csv\",index=False)"
   ]
  },
  {
   "cell_type": "code",
   "execution_count": null,
   "id": "df7c92d1-4941-4e37-8a98-a5ac0dd57385",
   "metadata": {},
   "outputs": [],
   "source": []
  }
 ],
 "metadata": {
  "kernelspec": {
   "display_name": "Python 3 (ipykernel)",
   "language": "python",
   "name": "python3"
  },
  "language_info": {
   "codemirror_mode": {
    "name": "ipython",
    "version": 3
   },
   "file_extension": ".py",
   "mimetype": "text/x-python",
   "name": "python",
   "nbconvert_exporter": "python",
   "pygments_lexer": "ipython3",
   "version": "3.9.17"
  }
 },
 "nbformat": 4,
 "nbformat_minor": 5
}
