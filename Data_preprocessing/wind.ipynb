{
 "cells": [
  {
   "cell_type": "code",
   "execution_count": 1,
   "id": "a858b354-e1f6-47de-9d63-18ad5c6e2a8a",
   "metadata": {},
   "outputs": [],
   "source": [
    "import pandas as pd\n",
    "import glob "
   ]
  },
  {
   "cell_type": "markdown",
   "id": "a4ca400b-27da-4885-91a6-63dbf0fd60dd",
   "metadata": {},
   "source": [
    "### Import and concatenate all wind csv files into one"
   ]
  },
  {
   "cell_type": "code",
   "execution_count": 2,
   "id": "40ac8de9-e59f-46b8-8dee-78f7d81a3661",
   "metadata": {},
   "outputs": [],
   "source": [
    "# Path to the directory containing CSV files \n",
    "csv_files_path = r\"C:\\Users\\stlva\\Documents\\Python_Scripts\\Data_analytics_bootcamp\\air-quality-and-weather-analysis\\Data\\Wind\\*.csv\" # Adjust this path as necessary \n",
    "\n",
    "# Use glob to get all CSV file paths \n",
    "csv_files = glob.glob(csv_files_path) \n",
    "\n",
    "# Use list comprehension to read all CSV files and concatenate them into a single DataFrame \n",
    "wind_df = pd.concat([pd.read_csv(file,low_memory=False) for file in csv_files], ignore_index=True) \n",
    "\n",
    "# Now wind_df contains all the data from the 20 CSV files \n"
   ]
  },
  {
   "cell_type": "markdown",
   "id": "ce8838e8-6dbd-4bbd-9cc0-594f18218f95",
   "metadata": {},
   "source": [
    "### Data cleaning and preprocessing"
   ]
  },
  {
   "cell_type": "code",
   "execution_count": 3,
   "id": "2b9b11fb-e6d5-4911-9c0a-acf6e5ad183e",
   "metadata": {},
   "outputs": [],
   "source": [
    "# Drop unwanted columns\n",
    "wind_df.drop(['Parameter Code', \n",
    "              'Sample Duration', \n",
    "              'Pollutant Standard', \n",
    "              'Event Type', \n",
    "              'Observation Count', \n",
    "              'Observation Percent', \n",
    "              'AQI', 'Method Code', \n",
    "              'Method Name', \n",
    "              'Local Site Name', \n",
    "              'Address', \n",
    "              'Date of Last Change'],axis=1,inplace=True)"
   ]
  },
  {
   "cell_type": "code",
   "execution_count": 4,
   "id": "0debf4d7-f80d-4091-ac5c-2817f58700bd",
   "metadata": {},
   "outputs": [],
   "source": [
    "# Aggregating so we have 1 measurement per station per day per parameter\n",
    "wind_df = wind_df.groupby(['State Code', \n",
    "                           'State Name', \n",
    "                           'County Code', \n",
    "                           'County Name', \n",
    "                           'City Name', \n",
    "                           'Site Num', \n",
    "                           'Datum', \n",
    "                           'Latitude', \n",
    "                           'Longitude', \n",
    "                           'Date Local', \n",
    "                           'Parameter Name', \n",
    "                           'Units of Measure']).agg({'Arithmetic Mean':'mean', '1st Max Value':'max','1st Max Hour':'max','CBSA Name':'first'}).reset_index()"
   ]
  },
  {
   "cell_type": "code",
   "execution_count": 5,
   "id": "ec6dd3d4-fd11-4939-bee7-76d87f8c7981",
   "metadata": {},
   "outputs": [],
   "source": [
    "# Drop Mexico, Virgin Islands and Puerto Rico\n",
    "wind_df.drop(wind_df[(wind_df['State Code']==80)|(wind_df['State Code']==78)|(wind_df['State Code']==72)].index,inplace=True)"
   ]
  },
  {
   "cell_type": "code",
   "execution_count": 6,
   "id": "ce0ac00c-5890-4358-a62e-cddf06bbdc57",
   "metadata": {},
   "outputs": [],
   "source": [
    "# Create unique identifier for each measurement\n",
    "wind_df['measurement_id'] = wind_df['State Code'].apply(str) + '_' + wind_df['County Code'].apply(str) + '_' + wind_df['Site Num'].apply(str) + '_' + wind_df['Date Local'].str.replace('-','')"
   ]
  },
  {
   "cell_type": "code",
   "execution_count": 7,
   "id": "82461fde-d1d1-4989-9f6e-61443f7b71b9",
   "metadata": {},
   "outputs": [],
   "source": [
    "# In 'Parameter Name' column, both wind speed and wind direction were recorded. So we had to separate them in order to proceed\n",
    "# Spliting the dataframe based on the parameter name\n",
    "wind_dir_df = wind_df[wind_df['Parameter Name']=='Wind Direction - Resultant']\n",
    "wind_speed_df = wind_df[wind_df['Parameter Name']=='Wind Speed - Resultant']"
   ]
  },
  {
   "cell_type": "code",
   "execution_count": 8,
   "id": "60c50728-384f-484c-86b0-86889a7b3e05",
   "metadata": {},
   "outputs": [
    {
     "name": "stderr",
     "output_type": "stream",
     "text": [
      "C:\\Users\\stlva\\AppData\\Local\\Temp\\ipykernel_16584\\1174791363.py:2: SettingWithCopyWarning: \n",
      "A value is trying to be set on a copy of a slice from a DataFrame\n",
      "\n",
      "See the caveats in the documentation: https://pandas.pydata.org/pandas-docs/stable/user_guide/indexing.html#returning-a-view-versus-a-copy\n",
      "  wind_dir_df.rename(columns={'Arithmetic Mean':'Wind Direction(deg)','1st Max Value':'Wind Direction(deg) Max Value', '1st Max Hour':'Wind Direction(deg) Max Hour'},inplace=True)\n",
      "C:\\Users\\stlva\\AppData\\Local\\Temp\\ipykernel_16584\\1174791363.py:3: SettingWithCopyWarning: \n",
      "A value is trying to be set on a copy of a slice from a DataFrame\n",
      "\n",
      "See the caveats in the documentation: https://pandas.pydata.org/pandas-docs/stable/user_guide/indexing.html#returning-a-view-versus-a-copy\n",
      "  wind_dir_df.drop(['Parameter Name', 'Units of Measure'],axis=1,inplace=True)\n"
     ]
    }
   ],
   "source": [
    "# Renaming column to match the value measured and droping unnecessary columns\n",
    "wind_dir_df.rename(columns={'Arithmetic Mean':'Wind Direction(deg)','1st Max Value':'Wind Direction(deg) Max Value', '1st Max Hour':'Wind Direction(deg) Max Hour'},inplace=True)\n",
    "wind_dir_df.drop(['Parameter Name', 'Units of Measure'],axis=1,inplace=True)"
   ]
  },
  {
   "cell_type": "code",
   "execution_count": 9,
   "id": "93e5671d-cc2c-4ce0-8eae-4c0ee02077e6",
   "metadata": {},
   "outputs": [
    {
     "name": "stderr",
     "output_type": "stream",
     "text": [
      "C:\\Users\\stlva\\AppData\\Local\\Temp\\ipykernel_16584\\1683326065.py:2: SettingWithCopyWarning: \n",
      "A value is trying to be set on a copy of a slice from a DataFrame\n",
      "\n",
      "See the caveats in the documentation: https://pandas.pydata.org/pandas-docs/stable/user_guide/indexing.html#returning-a-view-versus-a-copy\n",
      "  wind_speed_df.rename(columns={'Arithmetic Mean':'Wind Speed(kn)','1st Max Value':'Wind Speed(kn) Max Value', '1st Max Hour':'Wind Speed(kn) Max Hour'},inplace=True)\n",
      "C:\\Users\\stlva\\AppData\\Local\\Temp\\ipykernel_16584\\1683326065.py:3: SettingWithCopyWarning: \n",
      "A value is trying to be set on a copy of a slice from a DataFrame\n",
      "\n",
      "See the caveats in the documentation: https://pandas.pydata.org/pandas-docs/stable/user_guide/indexing.html#returning-a-view-versus-a-copy\n",
      "  wind_speed_df.drop(['Parameter Name', 'Units of Measure'],axis=1,inplace=True)\n"
     ]
    }
   ],
   "source": [
    "# Renaming column to match the value measured and droping unnecessary columns\n",
    "wind_speed_df.rename(columns={'Arithmetic Mean':'Wind Speed(kn)','1st Max Value':'Wind Speed(kn) Max Value', '1st Max Hour':'Wind Speed(kn) Max Hour'},inplace=True)\n",
    "wind_speed_df.drop(['Parameter Name', 'Units of Measure'],axis=1,inplace=True)"
   ]
  },
  {
   "cell_type": "code",
   "execution_count": 10,
   "id": "071205da-b0c9-431d-aad0-ffaf5f760339",
   "metadata": {},
   "outputs": [
    {
     "name": "stderr",
     "output_type": "stream",
     "text": [
      "C:\\Users\\stlva\\AppData\\Local\\Temp\\ipykernel_16584\\888752804.py:2: SettingWithCopyWarning: \n",
      "A value is trying to be set on a copy of a slice from a DataFrame.\n",
      "Try using .loc[row_indexer,col_indexer] = value instead\n",
      "\n",
      "See the caveats in the documentation: https://pandas.pydata.org/pandas-docs/stable/user_guide/indexing.html#returning-a-view-versus-a-copy\n",
      "  wind_dir_df['Date Local'] = pd.to_datetime(wind_dir_df['Date Local'])\n",
      "C:\\Users\\stlva\\AppData\\Local\\Temp\\ipykernel_16584\\888752804.py:3: SettingWithCopyWarning: \n",
      "A value is trying to be set on a copy of a slice from a DataFrame.\n",
      "Try using .loc[row_indexer,col_indexer] = value instead\n",
      "\n",
      "See the caveats in the documentation: https://pandas.pydata.org/pandas-docs/stable/user_guide/indexing.html#returning-a-view-versus-a-copy\n",
      "  wind_speed_df['Date Local'] = pd.to_datetime(wind_speed_df['Date Local'])\n"
     ]
    }
   ],
   "source": [
    "# Convert date column to datetime\n",
    "wind_dir_df['Date Local'] = pd.to_datetime(wind_dir_df['Date Local'])\n",
    "wind_speed_df['Date Local'] = pd.to_datetime(wind_speed_df['Date Local'])"
   ]
  },
  {
   "cell_type": "code",
   "execution_count": 11,
   "id": "d26c6ee9-7b7d-4b07-8a35-938006380dfa",
   "metadata": {},
   "outputs": [
    {
     "name": "stdout",
     "output_type": "stream",
     "text": [
      "<class 'pandas.core.frame.DataFrame'>\n",
      "Index: 4064328 entries, 0 to 8085267\n",
      "Data columns (total 15 columns):\n",
      " #   Column                         Dtype         \n",
      "---  ------                         -----         \n",
      " 0   State Code                     int64         \n",
      " 1   State Name                     object        \n",
      " 2   County Code                    int64         \n",
      " 3   County Name                    object        \n",
      " 4   City Name                      object        \n",
      " 5   Site Num                       int64         \n",
      " 6   Datum                          object        \n",
      " 7   Latitude                       float64       \n",
      " 8   Longitude                      float64       \n",
      " 9   Date Local                     datetime64[ns]\n",
      " 10  Wind Direction(deg)            float64       \n",
      " 11  Wind Direction(deg) Max Value  float64       \n",
      " 12  Wind Direction(deg) Max Hour   int64         \n",
      " 13  CBSA Name                      object        \n",
      " 14  measurement_id                 object        \n",
      "dtypes: datetime64[ns](1), float64(4), int64(4), object(6)\n",
      "memory usage: 496.1+ MB\n"
     ]
    }
   ],
   "source": [
    "wind_dir_df.info()"
   ]
  },
  {
   "cell_type": "code",
   "execution_count": 12,
   "id": "2aeef3bf-ce54-42d1-8e0f-a5acb0077f6c",
   "metadata": {},
   "outputs": [
    {
     "name": "stdout",
     "output_type": "stream",
     "text": [
      "<class 'pandas.core.frame.DataFrame'>\n",
      "Index: 4020941 entries, 1 to 8085268\n",
      "Data columns (total 15 columns):\n",
      " #   Column                    Dtype         \n",
      "---  ------                    -----         \n",
      " 0   State Code                int64         \n",
      " 1   State Name                object        \n",
      " 2   County Code               int64         \n",
      " 3   County Name               object        \n",
      " 4   City Name                 object        \n",
      " 5   Site Num                  int64         \n",
      " 6   Datum                     object        \n",
      " 7   Latitude                  float64       \n",
      " 8   Longitude                 float64       \n",
      " 9   Date Local                datetime64[ns]\n",
      " 10  Wind Speed(kn)            float64       \n",
      " 11  Wind Speed(kn) Max Value  float64       \n",
      " 12  Wind Speed(kn) Max Hour   int64         \n",
      " 13  CBSA Name                 object        \n",
      " 14  measurement_id            object        \n",
      "dtypes: datetime64[ns](1), float64(4), int64(4), object(6)\n",
      "memory usage: 490.8+ MB\n"
     ]
    }
   ],
   "source": [
    "wind_speed_df.info()"
   ]
  },
  {
   "cell_type": "code",
   "execution_count": 13,
   "id": "4cab0bce-8b19-4acd-9e28-b640e044e29f",
   "metadata": {},
   "outputs": [],
   "source": [
    "# Merging the two dataframes again\n",
    "wind_df = pd.merge(wind_dir_df,wind_speed_df,how='outer',on='measurement_id')"
   ]
  },
  {
   "cell_type": "code",
   "execution_count": 14,
   "id": "97ea7307-4df2-4db1-a547-60c10b1e579b",
   "metadata": {},
   "outputs": [],
   "source": [
    "# Fill NA values in the left table, from the corresponing column in the right table.\n",
    "for column in wind_df.columns:\n",
    "    if column.endswith('_x'):\n",
    "        corresponding_column = column[:-2] + '_y'\n",
    "        if corresponding_column in wind_df.columns:\n",
    "            wind_df[column] = wind_df[column].fillna(wind_df[corresponding_column])"
   ]
  },
  {
   "cell_type": "code",
   "execution_count": 15,
   "id": "27a47d0a-3966-47ad-a558-acab4eb5f8e6",
   "metadata": {},
   "outputs": [],
   "source": [
    "# Drop all columns from the right table, so that we don't have dupblicate columns\n",
    "wind_df = wind_df.drop(columns=wind_df.filter(regex='_y$').columns)"
   ]
  },
  {
   "cell_type": "code",
   "execution_count": 16,
   "id": "e34a4580-aae9-425f-86ad-2aa85e1bd513",
   "metadata": {},
   "outputs": [],
   "source": [
    "# Rename the columns\n",
    "wind_df.rename(columns={'State Code_x':'State Code', 'State Name_x':'State Name', 'County Code_x':'County Code', 'County Name_x':'County Name', \n",
    "                        'City Name_x':'City Name', 'Site Num_x':'Site Num', 'Datum_x':'Datum', 'Latitude_x':'Latitude', 'Longitude_x':'Longitude', 'Date Local_x':'Date Local','CBSA Name_x':'CBSA Name'},inplace=True)"
   ]
  },
  {
   "cell_type": "code",
   "execution_count": 17,
   "id": "8cacc933-15e6-476a-888d-af4a52336041",
   "metadata": {},
   "outputs": [
    {
     "data": {
      "text/html": [
       "<div>\n",
       "<style scoped>\n",
       "    .dataframe tbody tr th:only-of-type {\n",
       "        vertical-align: middle;\n",
       "    }\n",
       "\n",
       "    .dataframe tbody tr th {\n",
       "        vertical-align: top;\n",
       "    }\n",
       "\n",
       "    .dataframe thead th {\n",
       "        text-align: right;\n",
       "    }\n",
       "</style>\n",
       "<table border=\"1\" class=\"dataframe\">\n",
       "  <thead>\n",
       "    <tr style=\"text-align: right;\">\n",
       "      <th></th>\n",
       "      <th>State Code</th>\n",
       "      <th>State Name</th>\n",
       "      <th>County Code</th>\n",
       "      <th>County Name</th>\n",
       "      <th>City Name</th>\n",
       "      <th>Site Num</th>\n",
       "      <th>Datum</th>\n",
       "      <th>Latitude</th>\n",
       "      <th>Longitude</th>\n",
       "      <th>Date Local</th>\n",
       "      <th>Wind Direction(deg)</th>\n",
       "      <th>Wind Direction(deg) Max Value</th>\n",
       "      <th>Wind Direction(deg) Max Hour</th>\n",
       "      <th>CBSA Name</th>\n",
       "      <th>measurement_id</th>\n",
       "      <th>Wind Speed(kn)</th>\n",
       "      <th>Wind Speed(kn) Max Value</th>\n",
       "      <th>Wind Speed(kn) Max Hour</th>\n",
       "    </tr>\n",
       "  </thead>\n",
       "  <tbody>\n",
       "    <tr>\n",
       "      <th>0</th>\n",
       "      <td>10.0</td>\n",
       "      <td>Delaware</td>\n",
       "      <td>1.0</td>\n",
       "      <td>Kent</td>\n",
       "      <td>Not in a city</td>\n",
       "      <td>2.0</td>\n",
       "      <td>WGS84</td>\n",
       "      <td>38.986672</td>\n",
       "      <td>-75.5568</td>\n",
       "      <td>2012-02-01</td>\n",
       "      <td>119.166667</td>\n",
       "      <td>150.7</td>\n",
       "      <td>22.0</td>\n",
       "      <td>Dover, DE</td>\n",
       "      <td>10_1_2_20120201</td>\n",
       "      <td>8.708333</td>\n",
       "      <td>14.5</td>\n",
       "      <td>13.0</td>\n",
       "    </tr>\n",
       "    <tr>\n",
       "      <th>1</th>\n",
       "      <td>10.0</td>\n",
       "      <td>Delaware</td>\n",
       "      <td>1.0</td>\n",
       "      <td>Kent</td>\n",
       "      <td>Not in a city</td>\n",
       "      <td>2.0</td>\n",
       "      <td>WGS84</td>\n",
       "      <td>38.986672</td>\n",
       "      <td>-75.5568</td>\n",
       "      <td>2012-02-02</td>\n",
       "      <td>109.125000</td>\n",
       "      <td>159.7</td>\n",
       "      <td>19.0</td>\n",
       "      <td>Dover, DE</td>\n",
       "      <td>10_1_2_20120202</td>\n",
       "      <td>6.158333</td>\n",
       "      <td>11.4</td>\n",
       "      <td>21.0</td>\n",
       "    </tr>\n",
       "    <tr>\n",
       "      <th>2</th>\n",
       "      <td>10.0</td>\n",
       "      <td>Delaware</td>\n",
       "      <td>1.0</td>\n",
       "      <td>Kent</td>\n",
       "      <td>Not in a city</td>\n",
       "      <td>2.0</td>\n",
       "      <td>WGS84</td>\n",
       "      <td>38.986672</td>\n",
       "      <td>-75.5568</td>\n",
       "      <td>2012-02-03</td>\n",
       "      <td>137.041667</td>\n",
       "      <td>161.3</td>\n",
       "      <td>1.0</td>\n",
       "      <td>Dover, DE</td>\n",
       "      <td>10_1_2_20120203</td>\n",
       "      <td>5.541667</td>\n",
       "      <td>8.9</td>\n",
       "      <td>10.0</td>\n",
       "    </tr>\n",
       "    <tr>\n",
       "      <th>3</th>\n",
       "      <td>10.0</td>\n",
       "      <td>Delaware</td>\n",
       "      <td>1.0</td>\n",
       "      <td>Kent</td>\n",
       "      <td>Not in a city</td>\n",
       "      <td>2.0</td>\n",
       "      <td>WGS84</td>\n",
       "      <td>38.986672</td>\n",
       "      <td>-75.5568</td>\n",
       "      <td>2012-02-04</td>\n",
       "      <td>83.866667</td>\n",
       "      <td>157.4</td>\n",
       "      <td>23.0</td>\n",
       "      <td>Dover, DE</td>\n",
       "      <td>10_1_2_20120204</td>\n",
       "      <td>4.254167</td>\n",
       "      <td>6.9</td>\n",
       "      <td>11.0</td>\n",
       "    </tr>\n",
       "    <tr>\n",
       "      <th>4</th>\n",
       "      <td>10.0</td>\n",
       "      <td>Delaware</td>\n",
       "      <td>1.0</td>\n",
       "      <td>Kent</td>\n",
       "      <td>Not in a city</td>\n",
       "      <td>2.0</td>\n",
       "      <td>WGS84</td>\n",
       "      <td>38.986672</td>\n",
       "      <td>-75.5568</td>\n",
       "      <td>2012-02-05</td>\n",
       "      <td>93.604167</td>\n",
       "      <td>158.8</td>\n",
       "      <td>17.0</td>\n",
       "      <td>Dover, DE</td>\n",
       "      <td>10_1_2_20120205</td>\n",
       "      <td>5.962500</td>\n",
       "      <td>10.0</td>\n",
       "      <td>8.0</td>\n",
       "    </tr>\n",
       "  </tbody>\n",
       "</table>\n",
       "</div>"
      ],
      "text/plain": [
       "   State Code State Name  County Code County Name      City Name  Site Num  \\\n",
       "0        10.0   Delaware          1.0        Kent  Not in a city       2.0   \n",
       "1        10.0   Delaware          1.0        Kent  Not in a city       2.0   \n",
       "2        10.0   Delaware          1.0        Kent  Not in a city       2.0   \n",
       "3        10.0   Delaware          1.0        Kent  Not in a city       2.0   \n",
       "4        10.0   Delaware          1.0        Kent  Not in a city       2.0   \n",
       "\n",
       "   Datum   Latitude  Longitude Date Local  Wind Direction(deg)  \\\n",
       "0  WGS84  38.986672   -75.5568 2012-02-01           119.166667   \n",
       "1  WGS84  38.986672   -75.5568 2012-02-02           109.125000   \n",
       "2  WGS84  38.986672   -75.5568 2012-02-03           137.041667   \n",
       "3  WGS84  38.986672   -75.5568 2012-02-04            83.866667   \n",
       "4  WGS84  38.986672   -75.5568 2012-02-05            93.604167   \n",
       "\n",
       "   Wind Direction(deg) Max Value  Wind Direction(deg) Max Hour  CBSA Name  \\\n",
       "0                          150.7                          22.0  Dover, DE   \n",
       "1                          159.7                          19.0  Dover, DE   \n",
       "2                          161.3                           1.0  Dover, DE   \n",
       "3                          157.4                          23.0  Dover, DE   \n",
       "4                          158.8                          17.0  Dover, DE   \n",
       "\n",
       "    measurement_id  Wind Speed(kn)  Wind Speed(kn) Max Value  \\\n",
       "0  10_1_2_20120201        8.708333                      14.5   \n",
       "1  10_1_2_20120202        6.158333                      11.4   \n",
       "2  10_1_2_20120203        5.541667                       8.9   \n",
       "3  10_1_2_20120204        4.254167                       6.9   \n",
       "4  10_1_2_20120205        5.962500                      10.0   \n",
       "\n",
       "   Wind Speed(kn) Max Hour  \n",
       "0                     13.0  \n",
       "1                     21.0  \n",
       "2                     10.0  \n",
       "3                     11.0  \n",
       "4                      8.0  "
      ]
     },
     "execution_count": 17,
     "metadata": {},
     "output_type": "execute_result"
    }
   ],
   "source": [
    "wind_df.head()"
   ]
  },
  {
   "cell_type": "code",
   "execution_count": 18,
   "id": "0c17b821-3969-4207-aaa9-ff2b53e99e6f",
   "metadata": {},
   "outputs": [],
   "source": [
    "#Saving final df to csv\n",
    "#wind_df.to_csv(r\"C:\\Users\\stlva\\Documents\\Python_Scripts\\Data_analytics_bootcamp\\air-quality-and-weather-analysis\\Cleaning\\all_winds_clean.csv\",index=False)\n",
    "wind_df.to_csv(r\"C:\\Users\\stlva\\Google Drive\\Big blue data academy\\main_branch\\concatenated data\\all_wind_clean.csv\",index=False)"
   ]
  }
 ],
 "metadata": {
  "kernelspec": {
   "display_name": "Python 3 (ipykernel)",
   "language": "python",
   "name": "python3"
  },
  "language_info": {
   "codemirror_mode": {
    "name": "ipython",
    "version": 3
   },
   "file_extension": ".py",
   "mimetype": "text/x-python",
   "name": "python",
   "nbconvert_exporter": "python",
   "pygments_lexer": "ipython3",
   "version": "3.9.17"
  }
 },
 "nbformat": 4,
 "nbformat_minor": 5
}
