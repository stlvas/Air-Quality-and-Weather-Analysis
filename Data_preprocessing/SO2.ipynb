{
 "cells": [
  {
   "cell_type": "code",
   "execution_count": 1,
   "id": "0c490c3c-8272-4454-8f29-cde76f0dcec3",
   "metadata": {},
   "outputs": [],
   "source": [
    "import pandas as pd\n",
    "import glob"
   ]
  },
  {
   "cell_type": "markdown",
   "id": "f4a838b1-edd5-45ac-a9c9-a056d985176b",
   "metadata": {},
   "source": [
    "### Import and concatenate all SO2 csv files into one"
   ]
  },
  {
   "cell_type": "code",
   "execution_count": 2,
   "id": "5d431ff0-fd94-47ad-ae4c-bd134b056e8d",
   "metadata": {},
   "outputs": [],
   "source": [
    "# Path to the directory containing CSV files \n",
    "csv_files_path = r\"C:\\Users\\stlva\\Documents\\Python_Scripts\\Data_analytics_bootcamp\\air-quality-and-weather-analysis\\Data\\SO2\\*.csv\" # Adjust this path as necessary \n",
    "\n",
    "# Use glob to get all CSV file paths \n",
    "csv_files = glob.glob(csv_files_path) \n",
    "\n",
    "# Use list comprehension to read all CSV files and concatenate them into a single DataFrame \n",
    "SO2_df = pd.concat([pd.read_csv(file,low_memory=False) for file in csv_files], ignore_index=True) \n",
    "\n",
    "# Now PM2_5_df contains all the data from the 20 CSV files \n"
   ]
  },
  {
   "cell_type": "code",
   "execution_count": 3,
   "id": "1661d00c-0832-4ac9-aaed-0cc980952913",
   "metadata": {},
   "outputs": [],
   "source": [
    "# Drop unwanted columns\n",
    "SO2_df.drop(['Parameter Code', \n",
    "            'Sample Duration', \n",
    "            'Pollutant Standard', \n",
    "            'Event Type', \n",
    "            'Observation Count', \n",
    "            'Observation Percent',\n",
    "            'Method Code', \n",
    "            'Method Name',  \n",
    "            'Local Site Name', \n",
    "            'Address', \n",
    "            'Date of Last Change'],axis=1,inplace=True)"
   ]
  },
  {
   "cell_type": "code",
   "execution_count": 4,
   "id": "35d07580-8e35-4d1e-816a-2cb745b15579",
   "metadata": {},
   "outputs": [],
   "source": [
    "# Drop Canada\n",
    "SO2_df.drop(SO2_df[(SO2_df['State Code']=='CC')].index,inplace=True)\n",
    "\n",
    "# Change State Code dtype to int64\n",
    "SO2_df['State Code'] = SO2_df['State Code'].astype('int64')\n",
    "\n",
    "# Drop Mexico, Virgin Islands and Puerto Rico\n",
    "SO2_df.drop(SO2_df[(SO2_df['State Code']==80)|(SO2_df['State Code']==78)|(SO2_df['State Code']==72)].index,inplace=True)"
   ]
  },
  {
   "cell_type": "code",
   "execution_count": 5,
   "id": "413a5489-e1ec-4601-a8ac-cf574f9f36f7",
   "metadata": {},
   "outputs": [],
   "source": [
    "# Aggregating so we have 1 measurement per station per day per parameter\n",
    "SO2_df = SO2_df.groupby(['State Code', \n",
    "                       'State Name', \n",
    "                       'County Code', \n",
    "                       'County Name', \n",
    "                       'City Name', \n",
    "                       'Site Num', \n",
    "                       'Datum', \n",
    "                       'Latitude', \n",
    "                       'Longitude', \n",
    "                       'Date Local', \n",
    "                       'Parameter Name', \n",
    "                       'Units of Measure']).agg({'Arithmetic Mean':'mean', '1st Max Value':'max','1st Max Hour':'max','CBSA Name':'first','AQI':'mean'}).reset_index()"
   ]
  },
  {
   "cell_type": "code",
   "execution_count": 6,
   "id": "0959ac5c-f043-444f-8a46-a2dec6773210",
   "metadata": {},
   "outputs": [],
   "source": [
    "# Create unique identifier for each measurement\n",
    "SO2_df['measurement_id'] = SO2_df['State Code'].apply(str) + '_' + SO2_df['County Code'].apply(str) + '_' + SO2_df['Site Num'].apply(str) + '_' + SO2_df['Date Local'].str.replace('-','')"
   ]
  },
  {
   "cell_type": "code",
   "execution_count": 7,
   "id": "ecfa2181-bb68-4041-b41f-f52344ce10a1",
   "metadata": {},
   "outputs": [
    {
     "data": {
      "text/plain": [
       "array(['Sulfur dioxide'], dtype=object)"
      ]
     },
     "execution_count": 7,
     "metadata": {},
     "output_type": "execute_result"
    }
   ],
   "source": [
    "# checking for the parameters included in the dataframe\n",
    "SO2_df['Parameter Name'].unique()"
   ]
  },
  {
   "cell_type": "code",
   "execution_count": 8,
   "id": "da9ced67-a269-41a9-b7ef-bff562b0a34b",
   "metadata": {},
   "outputs": [],
   "source": [
    "# Renaming column to match the value measured and droping unnecessary columns\n",
    "SO2_df.rename(columns={'Arithmetic Mean':'SO2(ppb)','1st Max Value':'SO2(ppb) Max Value', '1st Max Hour':'SO2(ppb) Max Hour'},inplace=True)\n",
    "SO2_df.drop(['Parameter Name', 'Units of Measure'],axis=1,inplace=True)"
   ]
  },
  {
   "cell_type": "code",
   "execution_count": 9,
   "id": "3d0b54ac-3fed-4dd2-bb63-d3ea929c3704",
   "metadata": {},
   "outputs": [],
   "source": [
    "# Convert date column to datetime\n",
    "SO2_df['Date Local'] = pd.to_datetime(SO2_df['Date Local'])"
   ]
  },
  {
   "cell_type": "code",
   "execution_count": 10,
   "id": "8eff623b-3d38-4930-a343-b849335e12d0",
   "metadata": {},
   "outputs": [
    {
     "data": {
      "text/html": [
       "<div>\n",
       "<style scoped>\n",
       "    .dataframe tbody tr th:only-of-type {\n",
       "        vertical-align: middle;\n",
       "    }\n",
       "\n",
       "    .dataframe tbody tr th {\n",
       "        vertical-align: top;\n",
       "    }\n",
       "\n",
       "    .dataframe thead th {\n",
       "        text-align: right;\n",
       "    }\n",
       "</style>\n",
       "<table border=\"1\" class=\"dataframe\">\n",
       "  <thead>\n",
       "    <tr style=\"text-align: right;\">\n",
       "      <th></th>\n",
       "      <th>State Code</th>\n",
       "      <th>State Name</th>\n",
       "      <th>County Code</th>\n",
       "      <th>County Name</th>\n",
       "      <th>City Name</th>\n",
       "      <th>Site Num</th>\n",
       "      <th>Datum</th>\n",
       "      <th>Latitude</th>\n",
       "      <th>Longitude</th>\n",
       "      <th>Date Local</th>\n",
       "      <th>SO2(ppb)</th>\n",
       "      <th>SO2(ppb) Max Value</th>\n",
       "      <th>SO2(ppb) Max Hour</th>\n",
       "      <th>CBSA Name</th>\n",
       "      <th>AQI</th>\n",
       "      <th>measurement_id</th>\n",
       "    </tr>\n",
       "  </thead>\n",
       "  <tbody>\n",
       "    <tr>\n",
       "      <th>0</th>\n",
       "      <td>1</td>\n",
       "      <td>Alabama</td>\n",
       "      <td>33</td>\n",
       "      <td>Colbert</td>\n",
       "      <td>Not in a city</td>\n",
       "      <td>44</td>\n",
       "      <td>WGS84</td>\n",
       "      <td>34.690647</td>\n",
       "      <td>-87.821422</td>\n",
       "      <td>2004-01-01</td>\n",
       "      <td>3.112500</td>\n",
       "      <td>9.0</td>\n",
       "      <td>14</td>\n",
       "      <td>Florence-Muscle Shoals, AL</td>\n",
       "      <td>13.0</td>\n",
       "      <td>1_33_44_20040101</td>\n",
       "    </tr>\n",
       "    <tr>\n",
       "      <th>1</th>\n",
       "      <td>1</td>\n",
       "      <td>Alabama</td>\n",
       "      <td>33</td>\n",
       "      <td>Colbert</td>\n",
       "      <td>Not in a city</td>\n",
       "      <td>44</td>\n",
       "      <td>WGS84</td>\n",
       "      <td>34.690647</td>\n",
       "      <td>-87.821422</td>\n",
       "      <td>2004-01-02</td>\n",
       "      <td>1.000000</td>\n",
       "      <td>1.0</td>\n",
       "      <td>2</td>\n",
       "      <td>Florence-Muscle Shoals, AL</td>\n",
       "      <td>1.0</td>\n",
       "      <td>1_33_44_20040102</td>\n",
       "    </tr>\n",
       "    <tr>\n",
       "      <th>2</th>\n",
       "      <td>1</td>\n",
       "      <td>Alabama</td>\n",
       "      <td>33</td>\n",
       "      <td>Colbert</td>\n",
       "      <td>Not in a city</td>\n",
       "      <td>44</td>\n",
       "      <td>WGS84</td>\n",
       "      <td>34.690647</td>\n",
       "      <td>-87.821422</td>\n",
       "      <td>2004-01-03</td>\n",
       "      <td>1.125000</td>\n",
       "      <td>4.0</td>\n",
       "      <td>8</td>\n",
       "      <td>Florence-Muscle Shoals, AL</td>\n",
       "      <td>6.0</td>\n",
       "      <td>1_33_44_20040103</td>\n",
       "    </tr>\n",
       "    <tr>\n",
       "      <th>3</th>\n",
       "      <td>1</td>\n",
       "      <td>Alabama</td>\n",
       "      <td>33</td>\n",
       "      <td>Colbert</td>\n",
       "      <td>Not in a city</td>\n",
       "      <td>44</td>\n",
       "      <td>WGS84</td>\n",
       "      <td>34.690647</td>\n",
       "      <td>-87.821422</td>\n",
       "      <td>2004-01-04</td>\n",
       "      <td>1.000000</td>\n",
       "      <td>1.0</td>\n",
       "      <td>2</td>\n",
       "      <td>Florence-Muscle Shoals, AL</td>\n",
       "      <td>1.0</td>\n",
       "      <td>1_33_44_20040104</td>\n",
       "    </tr>\n",
       "    <tr>\n",
       "      <th>4</th>\n",
       "      <td>1</td>\n",
       "      <td>Alabama</td>\n",
       "      <td>33</td>\n",
       "      <td>Colbert</td>\n",
       "      <td>Not in a city</td>\n",
       "      <td>44</td>\n",
       "      <td>WGS84</td>\n",
       "      <td>34.690647</td>\n",
       "      <td>-87.821422</td>\n",
       "      <td>2004-01-05</td>\n",
       "      <td>3.072916</td>\n",
       "      <td>25.0</td>\n",
       "      <td>14</td>\n",
       "      <td>Florence-Muscle Shoals, AL</td>\n",
       "      <td>36.0</td>\n",
       "      <td>1_33_44_20040105</td>\n",
       "    </tr>\n",
       "  </tbody>\n",
       "</table>\n",
       "</div>"
      ],
      "text/plain": [
       "   State Code State Name  County Code County Name      City Name  Site Num  \\\n",
       "0           1    Alabama           33     Colbert  Not in a city        44   \n",
       "1           1    Alabama           33     Colbert  Not in a city        44   \n",
       "2           1    Alabama           33     Colbert  Not in a city        44   \n",
       "3           1    Alabama           33     Colbert  Not in a city        44   \n",
       "4           1    Alabama           33     Colbert  Not in a city        44   \n",
       "\n",
       "   Datum   Latitude  Longitude Date Local  SO2(ppb)  SO2(ppb) Max Value  \\\n",
       "0  WGS84  34.690647 -87.821422 2004-01-01  3.112500                 9.0   \n",
       "1  WGS84  34.690647 -87.821422 2004-01-02  1.000000                 1.0   \n",
       "2  WGS84  34.690647 -87.821422 2004-01-03  1.125000                 4.0   \n",
       "3  WGS84  34.690647 -87.821422 2004-01-04  1.000000                 1.0   \n",
       "4  WGS84  34.690647 -87.821422 2004-01-05  3.072916                25.0   \n",
       "\n",
       "   SO2(ppb) Max Hour                   CBSA Name   AQI    measurement_id  \n",
       "0                 14  Florence-Muscle Shoals, AL  13.0  1_33_44_20040101  \n",
       "1                  2  Florence-Muscle Shoals, AL   1.0  1_33_44_20040102  \n",
       "2                  8  Florence-Muscle Shoals, AL   6.0  1_33_44_20040103  \n",
       "3                  2  Florence-Muscle Shoals, AL   1.0  1_33_44_20040104  \n",
       "4                 14  Florence-Muscle Shoals, AL  36.0  1_33_44_20040105  "
      ]
     },
     "execution_count": 10,
     "metadata": {},
     "output_type": "execute_result"
    }
   ],
   "source": [
    "SO2_df.head()"
   ]
  },
  {
   "cell_type": "code",
   "execution_count": 11,
   "id": "9f252bcf-cffe-4bed-8720-e48fa1070076",
   "metadata": {},
   "outputs": [],
   "source": [
    "#Saving final df to csv\n",
    "#SO2_df.to_csv(r\"C:\\Users\\stlva\\Documents\\Python_Scripts\\Data_analytics_bootcamp\\air-quality-and-weather-analysis\\Cleaning\\all_SO2_clean.csv\",index=False)\n",
    "SO2_df.to_csv(r\"C:\\Users\\stlva\\Google Drive\\Big blue data academy\\main_branch\\concatenated data\\all_SO2_clean.csv\",index=False)"
   ]
  }
 ],
 "metadata": {
  "kernelspec": {
   "display_name": "Python 3 (ipykernel)",
   "language": "python",
   "name": "python3"
  },
  "language_info": {
   "codemirror_mode": {
    "name": "ipython",
    "version": 3
   },
   "file_extension": ".py",
   "mimetype": "text/x-python",
   "name": "python",
   "nbconvert_exporter": "python",
   "pygments_lexer": "ipython3",
   "version": "3.9.17"
  }
 },
 "nbformat": 4,
 "nbformat_minor": 5
}
