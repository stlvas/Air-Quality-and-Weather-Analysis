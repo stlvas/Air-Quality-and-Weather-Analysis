{
 "cells": [
  {
   "cell_type": "code",
   "execution_count": 1,
   "id": "8d861d28-4ae8-4f9d-896b-278dccd6b97f",
   "metadata": {},
   "outputs": [],
   "source": [
    "import pandas as pd\n",
    "import glob"
   ]
  },
  {
   "cell_type": "markdown",
   "id": "affede2b-0c77-479c-a0a7-ef4568211e67",
   "metadata": {},
   "source": [
    "### Import and concatenate all PM10 csv files into one"
   ]
  },
  {
   "cell_type": "code",
   "execution_count": 2,
   "id": "cc7a64a7-fec2-4cba-a7bf-247a0a049bee",
   "metadata": {},
   "outputs": [],
   "source": [
    "# Path to the directory containing CSV files \n",
    "csv_files_path = r\"C:\\Users\\stlva\\Documents\\Python_Scripts\\Data_analytics_bootcamp\\air-quality-and-weather-analysis\\Data\\PM10\\*.csv\" # Adjust this path as necessary \n",
    "\n",
    "# Use glob to get all CSV file paths \n",
    "csv_files = glob.glob(csv_files_path) \n",
    "\n",
    "# Use list comprehension to read all CSV files and concatenate them into a single DataFrame \n",
    "PM10_df = pd.concat([pd.read_csv(file,low_memory=False) for file in csv_files], ignore_index=True) \n",
    "\n",
    "# Now PM10_df contains all the data from the 20 CSV files \n"
   ]
  },
  {
   "cell_type": "markdown",
   "id": "caff5612-f0be-4492-be41-5cbe6c8f9eb0",
   "metadata": {},
   "source": [
    "### Data cleaning and preprocessing"
   ]
  },
  {
   "cell_type": "code",
   "execution_count": 3,
   "id": "69050ed6-bb94-4667-b20d-fd1065892535",
   "metadata": {},
   "outputs": [],
   "source": [
    "# Drop unwanted columns\n",
    "PM10_df.drop(['Parameter Code', \n",
    "            'Sample Duration', \n",
    "            'Pollutant Standard', \n",
    "            'Event Type', \n",
    "            'Observation Count', \n",
    "            'Observation Percent',\n",
    "            'Method Code', \n",
    "            'Method Name',  \n",
    "            'Local Site Name', \n",
    "            'Address', \n",
    "            'Date of Last Change'],axis=1,inplace=True)"
   ]
  },
  {
   "cell_type": "code",
   "execution_count": 4,
   "id": "ae26dfbf-231f-449d-ad16-9926fb490ac9",
   "metadata": {},
   "outputs": [],
   "source": [
    "# Drop Mexico, Virgin Islands and Puerto Rico\n",
    "PM10_df.drop(PM10_df[(PM10_df['State Code']==80)|(PM10_df['State Code']==78)|(PM10_df['State Code']==72)].index,inplace=True)"
   ]
  },
  {
   "cell_type": "code",
   "execution_count": 5,
   "id": "a6639c5c-bec3-41d6-9079-dddcad155990",
   "metadata": {},
   "outputs": [],
   "source": [
    "# Aggregating so we have 1 measurement per station per day per parameter\n",
    "PM10_df = PM10_df.groupby(['State Code', \n",
    "                       'State Name', \n",
    "                       'County Code', \n",
    "                       'County Name', \n",
    "                       'City Name', \n",
    "                       'Site Num', \n",
    "                       'Datum', \n",
    "                       'Latitude', \n",
    "                       'Longitude', \n",
    "                       'Date Local', \n",
    "                       'Parameter Name', \n",
    "                       'Units of Measure']).agg({'Arithmetic Mean':'mean', '1st Max Value':'max','1st Max Hour':'max','CBSA Name':'first','AQI':'mean'}).reset_index()"
   ]
  },
  {
   "cell_type": "code",
   "execution_count": 6,
   "id": "8a8211b7-e826-4aab-b0de-14c32c9c88c1",
   "metadata": {},
   "outputs": [],
   "source": [
    "# Create unique identifier for each measurement\n",
    "PM10_df['measurement_id'] = PM10_df['State Code'].apply(str) + '_' + PM10_df['County Code'].apply(str) + '_' + PM10_df['Site Num'].apply(str) + '_' + PM10_df['Date Local'].str.replace('-','')"
   ]
  },
  {
   "cell_type": "code",
   "execution_count": 7,
   "id": "7ae6493d-9353-4afb-bba5-52dbd1682591",
   "metadata": {},
   "outputs": [
    {
     "data": {
      "text/plain": [
       "array(['PM10 Total 0-10um STP'], dtype=object)"
      ]
     },
     "execution_count": 7,
     "metadata": {},
     "output_type": "execute_result"
    }
   ],
   "source": [
    "# checking for the parameters included in the dataframe\n",
    "PM10_df['Parameter Name'].unique()"
   ]
  },
  {
   "cell_type": "code",
   "execution_count": 8,
   "id": "c3ffc954-8798-432e-b7d6-538dbaaf0be7",
   "metadata": {},
   "outputs": [],
   "source": [
    "# Renaming column to match the value measured and droping unnecessary columns\n",
    "PM10_df.rename(columns={'Arithmetic Mean':'PM10 Tot_0-10um STP(μg/m3)','1st Max Value':'PM10 Tot_0-10um STP(μg/m3) Max Value', '1st Max Hour':'PM10 Tot_0-10um STP(μg/m3) Max Hour'},inplace=True)\n",
    "PM10_df.drop(['Parameter Name', 'Units of Measure'],axis=1,inplace=True)"
   ]
  },
  {
   "cell_type": "code",
   "execution_count": 9,
   "id": "76a68ce4-4c4f-4a75-aa2a-f139128ed737",
   "metadata": {},
   "outputs": [],
   "source": [
    "# Convert date column to datetime\n",
    "PM10_df['Date Local'] = pd.to_datetime(PM10_df['Date Local'])"
   ]
  },
  {
   "cell_type": "code",
   "execution_count": 10,
   "id": "94fd5c3c-a4ed-4273-87a6-b5b888b7dbc6",
   "metadata": {},
   "outputs": [
    {
     "data": {
      "text/html": [
       "<div>\n",
       "<style scoped>\n",
       "    .dataframe tbody tr th:only-of-type {\n",
       "        vertical-align: middle;\n",
       "    }\n",
       "\n",
       "    .dataframe tbody tr th {\n",
       "        vertical-align: top;\n",
       "    }\n",
       "\n",
       "    .dataframe thead th {\n",
       "        text-align: right;\n",
       "    }\n",
       "</style>\n",
       "<table border=\"1\" class=\"dataframe\">\n",
       "  <thead>\n",
       "    <tr style=\"text-align: right;\">\n",
       "      <th></th>\n",
       "      <th>State Code</th>\n",
       "      <th>State Name</th>\n",
       "      <th>County Code</th>\n",
       "      <th>County Name</th>\n",
       "      <th>City Name</th>\n",
       "      <th>Site Num</th>\n",
       "      <th>Datum</th>\n",
       "      <th>Latitude</th>\n",
       "      <th>Longitude</th>\n",
       "      <th>Date Local</th>\n",
       "      <th>PM10 Tot_0-10um STP(μg/m3)</th>\n",
       "      <th>PM10 Tot_0-10um STP(μg/m3) Max Value</th>\n",
       "      <th>PM10 Tot_0-10um STP(μg/m3) Max Hour</th>\n",
       "      <th>CBSA Name</th>\n",
       "      <th>AQI</th>\n",
       "      <th>measurement_id</th>\n",
       "    </tr>\n",
       "  </thead>\n",
       "  <tbody>\n",
       "    <tr>\n",
       "      <th>0</th>\n",
       "      <td>1</td>\n",
       "      <td>Alabama</td>\n",
       "      <td>53</td>\n",
       "      <td>Escambia</td>\n",
       "      <td>Brewton</td>\n",
       "      <td>2</td>\n",
       "      <td>NAD83</td>\n",
       "      <td>31.106567</td>\n",
       "      <td>-87.071081</td>\n",
       "      <td>2004-01-04</td>\n",
       "      <td>14.0</td>\n",
       "      <td>14.0</td>\n",
       "      <td>0</td>\n",
       "      <td>None</td>\n",
       "      <td>13.0</td>\n",
       "      <td>1_53_2_20040104</td>\n",
       "    </tr>\n",
       "    <tr>\n",
       "      <th>1</th>\n",
       "      <td>1</td>\n",
       "      <td>Alabama</td>\n",
       "      <td>53</td>\n",
       "      <td>Escambia</td>\n",
       "      <td>Brewton</td>\n",
       "      <td>2</td>\n",
       "      <td>NAD83</td>\n",
       "      <td>31.106567</td>\n",
       "      <td>-87.071081</td>\n",
       "      <td>2004-01-10</td>\n",
       "      <td>17.0</td>\n",
       "      <td>17.0</td>\n",
       "      <td>0</td>\n",
       "      <td>None</td>\n",
       "      <td>16.0</td>\n",
       "      <td>1_53_2_20040110</td>\n",
       "    </tr>\n",
       "    <tr>\n",
       "      <th>2</th>\n",
       "      <td>1</td>\n",
       "      <td>Alabama</td>\n",
       "      <td>53</td>\n",
       "      <td>Escambia</td>\n",
       "      <td>Brewton</td>\n",
       "      <td>2</td>\n",
       "      <td>NAD83</td>\n",
       "      <td>31.106567</td>\n",
       "      <td>-87.071081</td>\n",
       "      <td>2004-01-16</td>\n",
       "      <td>21.0</td>\n",
       "      <td>21.0</td>\n",
       "      <td>0</td>\n",
       "      <td>None</td>\n",
       "      <td>19.0</td>\n",
       "      <td>1_53_2_20040116</td>\n",
       "    </tr>\n",
       "    <tr>\n",
       "      <th>3</th>\n",
       "      <td>1</td>\n",
       "      <td>Alabama</td>\n",
       "      <td>53</td>\n",
       "      <td>Escambia</td>\n",
       "      <td>Brewton</td>\n",
       "      <td>2</td>\n",
       "      <td>NAD83</td>\n",
       "      <td>31.106567</td>\n",
       "      <td>-87.071081</td>\n",
       "      <td>2004-01-22</td>\n",
       "      <td>19.0</td>\n",
       "      <td>19.0</td>\n",
       "      <td>0</td>\n",
       "      <td>None</td>\n",
       "      <td>18.0</td>\n",
       "      <td>1_53_2_20040122</td>\n",
       "    </tr>\n",
       "    <tr>\n",
       "      <th>4</th>\n",
       "      <td>1</td>\n",
       "      <td>Alabama</td>\n",
       "      <td>53</td>\n",
       "      <td>Escambia</td>\n",
       "      <td>Brewton</td>\n",
       "      <td>2</td>\n",
       "      <td>NAD83</td>\n",
       "      <td>31.106567</td>\n",
       "      <td>-87.071081</td>\n",
       "      <td>2004-01-28</td>\n",
       "      <td>12.0</td>\n",
       "      <td>12.0</td>\n",
       "      <td>0</td>\n",
       "      <td>None</td>\n",
       "      <td>11.0</td>\n",
       "      <td>1_53_2_20040128</td>\n",
       "    </tr>\n",
       "  </tbody>\n",
       "</table>\n",
       "</div>"
      ],
      "text/plain": [
       "   State Code State Name  County Code County Name City Name  Site Num  Datum  \\\n",
       "0           1    Alabama           53    Escambia   Brewton         2  NAD83   \n",
       "1           1    Alabama           53    Escambia   Brewton         2  NAD83   \n",
       "2           1    Alabama           53    Escambia   Brewton         2  NAD83   \n",
       "3           1    Alabama           53    Escambia   Brewton         2  NAD83   \n",
       "4           1    Alabama           53    Escambia   Brewton         2  NAD83   \n",
       "\n",
       "    Latitude  Longitude Date Local  PM10 Tot_0-10um STP(μg/m3)  \\\n",
       "0  31.106567 -87.071081 2004-01-04                        14.0   \n",
       "1  31.106567 -87.071081 2004-01-10                        17.0   \n",
       "2  31.106567 -87.071081 2004-01-16                        21.0   \n",
       "3  31.106567 -87.071081 2004-01-22                        19.0   \n",
       "4  31.106567 -87.071081 2004-01-28                        12.0   \n",
       "\n",
       "   PM10 Tot_0-10um STP(μg/m3) Max Value  PM10 Tot_0-10um STP(μg/m3) Max Hour  \\\n",
       "0                                  14.0                                    0   \n",
       "1                                  17.0                                    0   \n",
       "2                                  21.0                                    0   \n",
       "3                                  19.0                                    0   \n",
       "4                                  12.0                                    0   \n",
       "\n",
       "  CBSA Name   AQI   measurement_id  \n",
       "0      None  13.0  1_53_2_20040104  \n",
       "1      None  16.0  1_53_2_20040110  \n",
       "2      None  19.0  1_53_2_20040116  \n",
       "3      None  18.0  1_53_2_20040122  \n",
       "4      None  11.0  1_53_2_20040128  "
      ]
     },
     "execution_count": 10,
     "metadata": {},
     "output_type": "execute_result"
    }
   ],
   "source": [
    "PM10_df.head()"
   ]
  },
  {
   "cell_type": "code",
   "execution_count": 11,
   "id": "36aae31d-fd16-4909-a3f5-a91e9e54daf5",
   "metadata": {},
   "outputs": [],
   "source": [
    "#Saving final df to csv\n",
    "#PM10_df.to_csv(r\"C:\\Users\\stlva\\Documents\\Python_Scripts\\Data_analytics_bootcamp\\air-quality-and-weather-analysis\\Cleaning\\all_PM10_clean.csv\",index=False)\n",
    "PM10_df.to_csv(r\"C:\\Users\\stlva\\Google Drive\\Big blue data academy\\main_branch\\concatenated data\\all_PM10_clean.csv\",index=False)"
   ]
  }
 ],
 "metadata": {
  "kernelspec": {
   "display_name": "Python 3 (ipykernel)",
   "language": "python",
   "name": "python3"
  },
  "language_info": {
   "codemirror_mode": {
    "name": "ipython",
    "version": 3
   },
   "file_extension": ".py",
   "mimetype": "text/x-python",
   "name": "python",
   "nbconvert_exporter": "python",
   "pygments_lexer": "ipython3",
   "version": "3.9.17"
  }
 },
 "nbformat": 4,
 "nbformat_minor": 5
}
