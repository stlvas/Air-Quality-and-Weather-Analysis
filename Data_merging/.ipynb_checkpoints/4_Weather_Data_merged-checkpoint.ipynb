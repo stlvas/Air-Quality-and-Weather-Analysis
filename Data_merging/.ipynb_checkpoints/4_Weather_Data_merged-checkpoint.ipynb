{
 "cells": [
  {
   "cell_type": "code",
   "execution_count": 1,
   "id": "a3ea1bbf-b1c5-4148-a133-2271827363b2",
   "metadata": {},
   "outputs": [],
   "source": [
    "import pandas as pd\n",
    "import numpy as np\n",
    "import gc"
   ]
  },
  {
   "cell_type": "markdown",
   "id": "95b0bfb4-fc7d-4006-bddd-424c8b4a0f98",
   "metadata": {},
   "source": [
    "## Importing and merging preprocessed weather data"
   ]
  },
  {
   "cell_type": "code",
   "execution_count": 2,
   "id": "2c296788-1985-4bfa-8656-1b978fd35488",
   "metadata": {},
   "outputs": [],
   "source": [
    "# Import clean pressure data\n",
    "pres_df = pd.read_csv(\"all_pressure_clean.csv\")"
   ]
  },
  {
   "cell_type": "code",
   "execution_count": 3,
   "id": "a2c245ab-b7a1-4216-8794-b27ea1584655",
   "metadata": {},
   "outputs": [
    {
     "name": "stdout",
     "output_type": "stream",
     "text": [
      "<class 'pandas.core.frame.DataFrame'>\n",
      "RangeIndex: 1949314 entries, 0 to 1949313\n",
      "Data columns (total 15 columns):\n",
      " #   Column                             Dtype  \n",
      "---  ------                             -----  \n",
      " 0   State Code                         int64  \n",
      " 1   State Name                         object \n",
      " 2   County Code                        int64  \n",
      " 3   County Name                        object \n",
      " 4   City Name                          object \n",
      " 5   Site Num                           int64  \n",
      " 6   Datum                              object \n",
      " 7   Latitude                           float64\n",
      " 8   Longitude                          float64\n",
      " 9   Date Local                         object \n",
      " 10  Barometric pressure(mb)            float64\n",
      " 11  Barometric pressure(mb) Max Value  float64\n",
      " 12  Barometric pressure(mb) Max Hour   int64  \n",
      " 13  CBSA Name                          object \n",
      " 14  measurement_id                     object \n",
      "dtypes: float64(4), int64(4), object(7)\n",
      "memory usage: 223.1+ MB\n"
     ]
    }
   ],
   "source": [
    "pres_df.info()"
   ]
  },
  {
   "cell_type": "code",
   "execution_count": 5,
   "id": "f2b737ac-c38f-4a39-9a6f-b6c2d2fecbbc",
   "metadata": {},
   "outputs": [],
   "source": [
    "# Import clean RH data\n",
    "rh_df = pd.read_csv(\"all_rh_clean.csv\", low_memory=False)"
   ]
  },
  {
   "cell_type": "code",
   "execution_count": 6,
   "id": "183a2d6b-28f0-4f1d-bb19-ea9760d33b3d",
   "metadata": {
    "scrolled": true
   },
   "outputs": [
    {
     "name": "stdout",
     "output_type": "stream",
     "text": [
      "<class 'pandas.core.frame.DataFrame'>\n",
      "RangeIndex: 2621757 entries, 0 to 2621756\n",
      "Data columns (total 15 columns):\n",
      " #   Column           Dtype  \n",
      "---  ------           -----  \n",
      " 0   State Code       int64  \n",
      " 1   State Name       object \n",
      " 2   County Code      int64  \n",
      " 3   County Name      object \n",
      " 4   City Name        object \n",
      " 5   Site Num         int64  \n",
      " 6   Datum            object \n",
      " 7   Latitude         float64\n",
      " 8   Longitude        float64\n",
      " 9   Date Local       object \n",
      " 10  RH(%)            float64\n",
      " 11  RH(%) Max Value  float64\n",
      " 12  RH(%) Max Hour   int64  \n",
      " 13  CBSA Name        object \n",
      " 14  measurement_id   object \n",
      "dtypes: float64(4), int64(4), object(7)\n",
      "memory usage: 300.0+ MB\n"
     ]
    }
   ],
   "source": [
    "rh_df.info()"
   ]
  },
  {
   "cell_type": "code",
   "execution_count": 7,
   "id": "319dcf40-ecf2-48ad-8225-0a743857db82",
   "metadata": {},
   "outputs": [
    {
     "data": {
      "text/plain": [
       "State Code              0\n",
       "State Name              0\n",
       "County Code             0\n",
       "County Name             0\n",
       "City Name               0\n",
       "Site Num                0\n",
       "Datum                   0\n",
       "Latitude                0\n",
       "Longitude               0\n",
       "Date Local              0\n",
       "RH(%)                   0\n",
       "RH(%) Max Value         0\n",
       "RH(%) Max Hour          0\n",
       "CBSA Name          364069\n",
       "measurement_id          0\n",
       "dtype: int64"
      ]
     },
     "execution_count": 7,
     "metadata": {},
     "output_type": "execute_result"
    }
   ],
   "source": [
    "rh_df.isnull().sum()"
   ]
  },
  {
   "cell_type": "code",
   "execution_count": 8,
   "id": "ed6e14c7-2fcf-4f26-95cc-98f725f1114c",
   "metadata": {},
   "outputs": [],
   "source": [
    "# Merge pressure and RH\n",
    "all_df = pd.merge(pres_df, rh_df, how='outer', on='measurement_id')"
   ]
  },
  {
   "cell_type": "code",
   "execution_count": 9,
   "id": "1f72142d-227d-405b-94ee-5ae46fd7acce",
   "metadata": {},
   "outputs": [],
   "source": [
    "# Fill NA values in the left table, from the corresponing column in the right table.\n",
    "for column in all_df.columns:\n",
    "    if column.endswith('_x'):\n",
    "        corresponding_column = column[:-2] + '_y'\n",
    "        if corresponding_column in all_df.columns:\n",
    "            all_df[column] = all_df[column].fillna(all_df[corresponding_column])"
   ]
  },
  {
   "cell_type": "code",
   "execution_count": 10,
   "id": "5167946b-db38-407c-bb2a-d32608b3c5ba",
   "metadata": {},
   "outputs": [],
   "source": [
    "# Drop all columns from the right table, so that we don't have dupblicate columns\n",
    "all_df = all_df.drop(columns=all_df.filter(regex='_y$').columns)"
   ]
  },
  {
   "cell_type": "code",
   "execution_count": 11,
   "id": "8bcbb1c3-f1a9-4894-8aec-8c0f8f7d432a",
   "metadata": {},
   "outputs": [],
   "source": [
    "# Rename the columns\n",
    "all_df.rename(columns={'State Code_x':'State Code', 'State Name_x':'State Name', 'County Code_x':'County Code', 'County Name_x':'County Name',\n",
    "       'City Name_x':'City Name', 'Site Num_x':'Site Num', 'Datum_x':'Datum', 'Latitude_x':'Latitude', 'Longitude_x':'Longitude',\n",
    "       'Date Local_x':'Date Local','CBSA Name_x':'CBSA Name'},inplace=True)"
   ]
  },
  {
   "cell_type": "code",
   "execution_count": 16,
   "id": "9e4e8404-996a-4903-af6b-d847704a7634",
   "metadata": {},
   "outputs": [],
   "source": [
    "# Import clean temperature data\n",
    "temp_df = pd.read_csv(\"all_temperature_clean.csv\", low_memory=False)"
   ]
  },
  {
   "cell_type": "code",
   "execution_count": 18,
   "id": "b878dd83-d093-4a21-8c50-684fe4d9db85",
   "metadata": {},
   "outputs": [],
   "source": [
    "# Merge temperature data with the previously merged table\n",
    "all_df = pd.merge(all_df, temp_df, how='outer', on='measurement_id')"
   ]
  },
  {
   "cell_type": "code",
   "execution_count": 19,
   "id": "b89e508f-dd4f-4eed-961c-41eaaedd4474",
   "metadata": {},
   "outputs": [],
   "source": [
    "# Fill NA values in the left table, from the corresponing column in the right table.\n",
    "for column in all_df.columns:\n",
    "    if column.endswith('_x'):\n",
    "        corresponding_column = column[:-2] + '_y'\n",
    "        if corresponding_column in all_df.columns:\n",
    "            all_df[column] = all_df[column].fillna(all_df[corresponding_column])\n",
    "\n",
    "# Drop all columns from the right table, so that we don't have dupblicate columns\n",
    "all_df = all_df.drop(columns=all_df.filter(regex='_y$').columns)\n",
    "\n",
    "# Rename the columns\n",
    "all_df.rename(columns={'State Code_x':'State Code', 'State Name_x':'State Name', 'County Code_x':'County Code', 'County Name_x':'County Name',\n",
    "       'City Name_x':'City Name', 'Site Num_x':'Site Num', 'Datum_x':'Datum', 'Latitude_x':'Latitude', 'Longitude_x':'Longitude',\n",
    "       'Date Local_x':'Date Local','CBSA Name_x':'CBSA Name'},inplace=True)"
   ]
  },
  {
   "cell_type": "code",
   "execution_count": 22,
   "id": "00ac5171-91ff-4bbe-9300-7c87a33c5938",
   "metadata": {},
   "outputs": [],
   "source": [
    "# Import clean wind data\n",
    "wind_df = pd.read_csv(\"all_winds_clean.csv\", low_memory=False)"
   ]
  },
  {
   "cell_type": "code",
   "execution_count": 24,
   "id": "5a95030e-65e1-459c-bad8-df74d4b900e0",
   "metadata": {},
   "outputs": [],
   "source": [
    "# Merge wind data with the previously merged table\n",
    "all_df = pd.merge(all_df, wind_df, how='outer', on='measurement_id')"
   ]
  },
  {
   "cell_type": "code",
   "execution_count": 25,
   "id": "ae4b1e2b-16a8-4744-ba5f-5143dbe060d0",
   "metadata": {},
   "outputs": [],
   "source": [
    "# Fill NA values in the left table, from the corresponing column in the right table.\n",
    "for column in all_df.columns:\n",
    "    if column.endswith('_x'):\n",
    "        corresponding_column = column[:-2] + '_y'\n",
    "        if corresponding_column in all_df.columns:\n",
    "            all_df[column] = all_df[column].fillna(all_df[corresponding_column])\n",
    "\n",
    "# Drop all columns from the right table, so that we don't have dupblicate columns\n",
    "all_df = all_df.drop(columns=all_df.filter(regex='_y$').columns)\n",
    "\n",
    "# Rename the columns\n",
    "all_df.rename(columns={'State Code_x':'State Code', 'State Name_x':'State Name', 'County Code_x':'County Code', 'County Name_x':'County Name',\n",
    "       'City Name_x':'City Name', 'Site Num_x':'Site Num', 'Datum_x':'Datum', 'Latitude_x':'Latitude', 'Longitude_x':'Longitude',\n",
    "       'Date Local_x':'Date Local','CBSA Name_x':'CBSA Name'},inplace=True)"
   ]
  },
  {
   "cell_type": "code",
   "execution_count": 27,
   "id": "0e867e3c-4762-41ed-918a-09c704082cf5",
   "metadata": {
    "scrolled": true
   },
   "outputs": [
    {
     "data": {
      "text/plain": [
       "Index(['State Code', 'State Name', 'County Code', 'County Name', 'City Name',\n",
       "       'Site Num', 'Datum', 'Latitude', 'Longitude', 'Date Local',\n",
       "       'Barometric pressure(mb)', 'Barometric pressure(mb) Max Value',\n",
       "       'Barometric pressure(mb) Max Hour', 'CBSA Name', 'measurement_id',\n",
       "       'RH(%)', 'RH(%) Max Value', 'RH(%) Max Hour', 'Temperature(C)',\n",
       "       'Temperature(C) Max Value', 'Temperature(F) Max Hour',\n",
       "       'Wind Direction(deg)', 'Wind Direction(deg) Max Value',\n",
       "       'Wind Direction(deg) Max Hour', 'Wind Speed(kn)',\n",
       "       'Wind Speed(kn) Max Value', 'Wind Speed(kn) Max Hour'],\n",
       "      dtype='object')"
      ]
     },
     "execution_count": 27,
     "metadata": {},
     "output_type": "execute_result"
    }
   ],
   "source": [
    "all_df.columns"
   ]
  },
  {
   "cell_type": "code",
   "execution_count": 28,
   "id": "940a939a-a5d5-499e-81eb-3f866b24af3c",
   "metadata": {},
   "outputs": [],
   "source": [
    "all_df['State Code'] = all_df['State Code'].astype(int).astype(str)\n",
    "all_df['County Code'] = all_df['County Code'].astype(int).astype(str)\n",
    "all_df['Site Num'] = all_df['Site Num'].astype(int).astype(str)\n",
    "\n",
    "# Create a unique value for every station\n",
    "all_df['station_id'] = all_df['State Code'].apply(str) + '_' + all_df['County Code'].apply(str) + '_' + all_df['Site Num'].apply(str)"
   ]
  },
  {
   "cell_type": "code",
   "execution_count": 29,
   "id": "9b271bc7-e5ce-43e1-b667-15818d1baae8",
   "metadata": {},
   "outputs": [],
   "source": [
    "# Save the merged df to csv\n",
    "all_df.to_csv(\"weather_data.csv\",index=False)"
   ]
  }
 ],
 "metadata": {
  "kernelspec": {
   "display_name": "Python 3 (ipykernel)",
   "language": "python",
   "name": "python3"
  },
  "language_info": {
   "codemirror_mode": {
    "name": "ipython",
    "version": 3
   },
   "file_extension": ".py",
   "mimetype": "text/x-python",
   "name": "python",
   "nbconvert_exporter": "python",
   "pygments_lexer": "ipython3",
   "version": "3.9.17"
  }
 },
 "nbformat": 4,
 "nbformat_minor": 5
}
