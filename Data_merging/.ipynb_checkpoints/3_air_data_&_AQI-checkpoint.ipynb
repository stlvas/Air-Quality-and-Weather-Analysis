{
 "cells": [
  {
   "cell_type": "code",
   "execution_count": 1,
   "id": "ce7368be-73d3-48b0-b7e0-edb3e16a5bc2",
   "metadata": {},
   "outputs": [],
   "source": [
    "import pandas as pd"
   ]
  },
  {
   "cell_type": "code",
   "execution_count": 2,
   "id": "c750e132-4738-449c-b965-d3a1c524385d",
   "metadata": {},
   "outputs": [],
   "source": [
    "import dask.dataframe as dd"
   ]
  },
  {
   "cell_type": "markdown",
   "id": "06d4dacf-d725-4f0b-94c3-8ec436a8bc72",
   "metadata": {},
   "source": [
    "## Read pollutants csv "
   ]
  },
  {
   "cell_type": "code",
   "execution_count": 3,
   "id": "1e4c3a90-d217-4e58-a125-200c971d94da",
   "metadata": {},
   "outputs": [
    {
     "data": {
      "text/html": [
       "<div>\n",
       "<style scoped>\n",
       "    .dataframe tbody tr th:only-of-type {\n",
       "        vertical-align: middle;\n",
       "    }\n",
       "\n",
       "    .dataframe tbody tr th {\n",
       "        vertical-align: top;\n",
       "    }\n",
       "\n",
       "    .dataframe thead th {\n",
       "        text-align: right;\n",
       "    }\n",
       "</style>\n",
       "<table border=\"1\" class=\"dataframe\">\n",
       "  <thead>\n",
       "    <tr style=\"text-align: right;\">\n",
       "      <th></th>\n",
       "      <th>State Code</th>\n",
       "      <th>State Name</th>\n",
       "      <th>County Code</th>\n",
       "      <th>County Name</th>\n",
       "      <th>City Name</th>\n",
       "      <th>Site Num</th>\n",
       "      <th>Datum</th>\n",
       "      <th>Latitude</th>\n",
       "      <th>Longitude</th>\n",
       "      <th>Date Local</th>\n",
       "      <th>CBSA Name</th>\n",
       "      <th>measurement_id</th>\n",
       "    </tr>\n",
       "  </thead>\n",
       "  <tbody>\n",
       "    <tr>\n",
       "      <th>0</th>\n",
       "      <td>10</td>\n",
       "      <td>Delaware</td>\n",
       "      <td>1</td>\n",
       "      <td>Kent</td>\n",
       "      <td>Not in a city</td>\n",
       "      <td>2</td>\n",
       "      <td>WGS84</td>\n",
       "      <td>38.986672</td>\n",
       "      <td>-75.5568</td>\n",
       "      <td>2004-01-01</td>\n",
       "      <td>Dover, DE</td>\n",
       "      <td>10_1_2_20040101</td>\n",
       "    </tr>\n",
       "    <tr>\n",
       "      <th>1</th>\n",
       "      <td>10</td>\n",
       "      <td>Delaware</td>\n",
       "      <td>1</td>\n",
       "      <td>Kent</td>\n",
       "      <td>Not in a city</td>\n",
       "      <td>2</td>\n",
       "      <td>WGS84</td>\n",
       "      <td>38.986672</td>\n",
       "      <td>-75.5568</td>\n",
       "      <td>2004-01-04</td>\n",
       "      <td>Dover, DE</td>\n",
       "      <td>10_1_2_20040104</td>\n",
       "    </tr>\n",
       "    <tr>\n",
       "      <th>2</th>\n",
       "      <td>10</td>\n",
       "      <td>Delaware</td>\n",
       "      <td>1</td>\n",
       "      <td>Kent</td>\n",
       "      <td>Not in a city</td>\n",
       "      <td>2</td>\n",
       "      <td>WGS84</td>\n",
       "      <td>38.986672</td>\n",
       "      <td>-75.5568</td>\n",
       "      <td>2004-01-07</td>\n",
       "      <td>Dover, DE</td>\n",
       "      <td>10_1_2_20040107</td>\n",
       "    </tr>\n",
       "    <tr>\n",
       "      <th>3</th>\n",
       "      <td>10</td>\n",
       "      <td>Delaware</td>\n",
       "      <td>1</td>\n",
       "      <td>Kent</td>\n",
       "      <td>Not in a city</td>\n",
       "      <td>2</td>\n",
       "      <td>WGS84</td>\n",
       "      <td>38.986672</td>\n",
       "      <td>-75.5568</td>\n",
       "      <td>2004-01-10</td>\n",
       "      <td>Dover, DE</td>\n",
       "      <td>10_1_2_20040110</td>\n",
       "    </tr>\n",
       "    <tr>\n",
       "      <th>4</th>\n",
       "      <td>10</td>\n",
       "      <td>Delaware</td>\n",
       "      <td>1</td>\n",
       "      <td>Kent</td>\n",
       "      <td>Not in a city</td>\n",
       "      <td>2</td>\n",
       "      <td>WGS84</td>\n",
       "      <td>38.986672</td>\n",
       "      <td>-75.5568</td>\n",
       "      <td>2004-01-13</td>\n",
       "      <td>Dover, DE</td>\n",
       "      <td>10_1_2_20040113</td>\n",
       "    </tr>\n",
       "  </tbody>\n",
       "</table>\n",
       "</div>"
      ],
      "text/plain": [
       "   State Code State Name  County Code County Name      City Name  Site Num  \\\n",
       "0          10   Delaware            1        Kent  Not in a city         2   \n",
       "1          10   Delaware            1        Kent  Not in a city         2   \n",
       "2          10   Delaware            1        Kent  Not in a city         2   \n",
       "3          10   Delaware            1        Kent  Not in a city         2   \n",
       "4          10   Delaware            1        Kent  Not in a city         2   \n",
       "\n",
       "   Datum   Latitude  Longitude  Date Local  CBSA Name   measurement_id  \n",
       "0  WGS84  38.986672   -75.5568  2004-01-01  Dover, DE  10_1_2_20040101  \n",
       "1  WGS84  38.986672   -75.5568  2004-01-04  Dover, DE  10_1_2_20040104  \n",
       "2  WGS84  38.986672   -75.5568  2004-01-07  Dover, DE  10_1_2_20040107  \n",
       "3  WGS84  38.986672   -75.5568  2004-01-10  Dover, DE  10_1_2_20040110  \n",
       "4  WGS84  38.986672   -75.5568  2004-01-13  Dover, DE  10_1_2_20040113  "
      ]
     },
     "execution_count": 3,
     "metadata": {},
     "output_type": "execute_result"
    }
   ],
   "source": [
    "ddf = dd.read_csv(\"air_data_merged.csv\", usecols=['State Code', 'State Name', 'County Code', 'County Name', 'City Name','Site Num', 'Datum', 'Latitude', 'Longitude', 'Date Local','CBSA Name','measurement_id'],low_memory=False)\n",
    "\n",
    "# Perform operations on the Dask DataFrame\n",
    "result = ddf.compute()\n",
    "result.head()"
   ]
  },
  {
   "cell_type": "markdown",
   "id": "148cfd95-f1bc-43f9-b76d-772f63b207ee",
   "metadata": {},
   "source": [
    "## Read AQI csv"
   ]
  },
  {
   "cell_type": "code",
   "execution_count": 4,
   "id": "38ca6b10-2517-4873-97da-5d88650ae4cc",
   "metadata": {},
   "outputs": [],
   "source": [
    "aqi = pd.read_csv(\"AQI_final_df.csv\")"
   ]
  },
  {
   "cell_type": "markdown",
   "id": "b15e507e-e135-4359-9426-e8897a5aa1d4",
   "metadata": {},
   "source": [
    "## Merging pollutants csv and AQI csv "
   ]
  },
  {
   "cell_type": "code",
   "execution_count": 5,
   "id": "4512005d-9c8f-4996-aa28-63f49c447e18",
   "metadata": {},
   "outputs": [
    {
     "data": {
      "text/html": [
       "<div>\n",
       "<style scoped>\n",
       "    .dataframe tbody tr th:only-of-type {\n",
       "        vertical-align: middle;\n",
       "    }\n",
       "\n",
       "    .dataframe tbody tr th {\n",
       "        vertical-align: top;\n",
       "    }\n",
       "\n",
       "    .dataframe thead th {\n",
       "        text-align: right;\n",
       "    }\n",
       "</style>\n",
       "<table border=\"1\" class=\"dataframe\">\n",
       "  <thead>\n",
       "    <tr style=\"text-align: right;\">\n",
       "      <th></th>\n",
       "      <th>State Code</th>\n",
       "      <th>State Name</th>\n",
       "      <th>County Code</th>\n",
       "      <th>County Name</th>\n",
       "      <th>City Name</th>\n",
       "      <th>Site Num</th>\n",
       "      <th>Datum</th>\n",
       "      <th>Latitude</th>\n",
       "      <th>Longitude</th>\n",
       "      <th>Date Local</th>\n",
       "      <th>CBSA Name</th>\n",
       "      <th>measurement_id</th>\n",
       "      <th>max_value</th>\n",
       "      <th>AQI_cr_param</th>\n",
       "    </tr>\n",
       "  </thead>\n",
       "  <tbody>\n",
       "    <tr>\n",
       "      <th>0</th>\n",
       "      <td>10</td>\n",
       "      <td>Delaware</td>\n",
       "      <td>1</td>\n",
       "      <td>Kent</td>\n",
       "      <td>Not in a city</td>\n",
       "      <td>2</td>\n",
       "      <td>WGS84</td>\n",
       "      <td>38.986672</td>\n",
       "      <td>-75.5568</td>\n",
       "      <td>2004-01-01</td>\n",
       "      <td>Dover, DE</td>\n",
       "      <td>10_1_2_20040101</td>\n",
       "      <td>32.0</td>\n",
       "      <td>AQI_PM2_5</td>\n",
       "    </tr>\n",
       "    <tr>\n",
       "      <th>1</th>\n",
       "      <td>10</td>\n",
       "      <td>Delaware</td>\n",
       "      <td>1</td>\n",
       "      <td>Kent</td>\n",
       "      <td>Not in a city</td>\n",
       "      <td>2</td>\n",
       "      <td>WGS84</td>\n",
       "      <td>38.986672</td>\n",
       "      <td>-75.5568</td>\n",
       "      <td>2004-01-04</td>\n",
       "      <td>Dover, DE</td>\n",
       "      <td>10_1_2_20040104</td>\n",
       "      <td>60.0</td>\n",
       "      <td>AQI_PM2_5</td>\n",
       "    </tr>\n",
       "    <tr>\n",
       "      <th>2</th>\n",
       "      <td>10</td>\n",
       "      <td>Delaware</td>\n",
       "      <td>1</td>\n",
       "      <td>Kent</td>\n",
       "      <td>Not in a city</td>\n",
       "      <td>2</td>\n",
       "      <td>WGS84</td>\n",
       "      <td>38.986672</td>\n",
       "      <td>-75.5568</td>\n",
       "      <td>2004-01-07</td>\n",
       "      <td>Dover, DE</td>\n",
       "      <td>10_1_2_20040107</td>\n",
       "      <td>26.0</td>\n",
       "      <td>AQI_PM2_5</td>\n",
       "    </tr>\n",
       "    <tr>\n",
       "      <th>3</th>\n",
       "      <td>10</td>\n",
       "      <td>Delaware</td>\n",
       "      <td>1</td>\n",
       "      <td>Kent</td>\n",
       "      <td>Not in a city</td>\n",
       "      <td>2</td>\n",
       "      <td>WGS84</td>\n",
       "      <td>38.986672</td>\n",
       "      <td>-75.5568</td>\n",
       "      <td>2004-01-10</td>\n",
       "      <td>Dover, DE</td>\n",
       "      <td>10_1_2_20040110</td>\n",
       "      <td>28.0</td>\n",
       "      <td>AQI_PM2_5</td>\n",
       "    </tr>\n",
       "    <tr>\n",
       "      <th>4</th>\n",
       "      <td>10</td>\n",
       "      <td>Delaware</td>\n",
       "      <td>1</td>\n",
       "      <td>Kent</td>\n",
       "      <td>Not in a city</td>\n",
       "      <td>2</td>\n",
       "      <td>WGS84</td>\n",
       "      <td>38.986672</td>\n",
       "      <td>-75.5568</td>\n",
       "      <td>2004-01-13</td>\n",
       "      <td>Dover, DE</td>\n",
       "      <td>10_1_2_20040113</td>\n",
       "      <td>35.0</td>\n",
       "      <td>AQI_PM2_5</td>\n",
       "    </tr>\n",
       "  </tbody>\n",
       "</table>\n",
       "</div>"
      ],
      "text/plain": [
       "   State Code State Name  County Code County Name      City Name  Site Num  \\\n",
       "0          10   Delaware            1        Kent  Not in a city         2   \n",
       "1          10   Delaware            1        Kent  Not in a city         2   \n",
       "2          10   Delaware            1        Kent  Not in a city         2   \n",
       "3          10   Delaware            1        Kent  Not in a city         2   \n",
       "4          10   Delaware            1        Kent  Not in a city         2   \n",
       "\n",
       "   Datum   Latitude  Longitude  Date Local  CBSA Name   measurement_id  \\\n",
       "0  WGS84  38.986672   -75.5568  2004-01-01  Dover, DE  10_1_2_20040101   \n",
       "1  WGS84  38.986672   -75.5568  2004-01-04  Dover, DE  10_1_2_20040104   \n",
       "2  WGS84  38.986672   -75.5568  2004-01-07  Dover, DE  10_1_2_20040107   \n",
       "3  WGS84  38.986672   -75.5568  2004-01-10  Dover, DE  10_1_2_20040110   \n",
       "4  WGS84  38.986672   -75.5568  2004-01-13  Dover, DE  10_1_2_20040113   \n",
       "\n",
       "   max_value AQI_cr_param  \n",
       "0       32.0    AQI_PM2_5  \n",
       "1       60.0    AQI_PM2_5  \n",
       "2       26.0    AQI_PM2_5  \n",
       "3       28.0    AQI_PM2_5  \n",
       "4       35.0    AQI_PM2_5  "
      ]
     },
     "execution_count": 5,
     "metadata": {},
     "output_type": "execute_result"
    }
   ],
   "source": [
    "merge = pd.merge(result, aqi, on='measurement_id', how='outer')\n",
    "merge.head()"
   ]
  },
  {
   "cell_type": "code",
   "execution_count": 6,
   "id": "7b253b5b-44c2-4395-aa7a-0444a091dbe4",
   "metadata": {
    "scrolled": true
   },
   "outputs": [
    {
     "name": "stdout",
     "output_type": "stream",
     "text": [
      "<class 'pandas.core.frame.DataFrame'>\n",
      "RangeIndex: 12349571 entries, 0 to 12349570\n",
      "Data columns (total 14 columns):\n",
      " #   Column          Dtype  \n",
      "---  ------          -----  \n",
      " 0   State Code      int64  \n",
      " 1   State Name      object \n",
      " 2   County Code     int64  \n",
      " 3   County Name     object \n",
      " 4   City Name       object \n",
      " 5   Site Num        int64  \n",
      " 6   Datum           object \n",
      " 7   Latitude        float64\n",
      " 8   Longitude       float64\n",
      " 9   Date Local      object \n",
      " 10  CBSA Name       object \n",
      " 11  measurement_id  object \n",
      " 12  max_value       float64\n",
      " 13  AQI_cr_param    object \n",
      "dtypes: float64(3), int64(3), object(8)\n",
      "memory usage: 1.3+ GB\n"
     ]
    }
   ],
   "source": [
    "merge.info()"
   ]
  },
  {
   "cell_type": "code",
   "execution_count": 7,
   "id": "6743caf8-89c0-4473-b817-9cb4ba693274",
   "metadata": {},
   "outputs": [],
   "source": [
    "# Checking for duplicates or errors"
   ]
  },
  {
   "cell_type": "code",
   "execution_count": 8,
   "id": "2bdaca13-f416-43f9-b5a0-a54d9df95288",
   "metadata": {},
   "outputs": [
    {
     "data": {
      "text/plain": [
       "12349571"
      ]
     },
     "execution_count": 8,
     "metadata": {},
     "output_type": "execute_result"
    }
   ],
   "source": [
    "merge['measurement_id'].nunique()"
   ]
  },
  {
   "cell_type": "code",
   "execution_count": 9,
   "id": "6fca07a8-9eb8-4397-a631-fe6811153f49",
   "metadata": {},
   "outputs": [
    {
     "data": {
      "text/plain": [
       "12349571"
      ]
     },
     "execution_count": 9,
     "metadata": {},
     "output_type": "execute_result"
    }
   ],
   "source": [
    "result['measurement_id'].nunique()"
   ]
  },
  {
   "cell_type": "code",
   "execution_count": 10,
   "id": "50aca340-3158-4e72-b982-1b7a917c3411",
   "metadata": {},
   "outputs": [
    {
     "name": "stdout",
     "output_type": "stream",
     "text": [
      "<class 'pandas.core.frame.DataFrame'>\n",
      "RangeIndex: 12349571 entries, 0 to 12349570\n",
      "Data columns (total 3 columns):\n",
      " #   Column          Dtype  \n",
      "---  ------          -----  \n",
      " 0   measurement_id  object \n",
      " 1   max_value       float64\n",
      " 2   AQI_cr_param    object \n",
      "dtypes: float64(1), object(2)\n",
      "memory usage: 282.7+ MB\n"
     ]
    }
   ],
   "source": [
    "aqi.info()"
   ]
  },
  {
   "cell_type": "code",
   "execution_count": 11,
   "id": "afd993f4-a458-4001-acc2-4762d6680d09",
   "metadata": {
    "scrolled": true
   },
   "outputs": [
    {
     "data": {
      "text/html": [
       "<div>\n",
       "<style scoped>\n",
       "    .dataframe tbody tr th:only-of-type {\n",
       "        vertical-align: middle;\n",
       "    }\n",
       "\n",
       "    .dataframe tbody tr th {\n",
       "        vertical-align: top;\n",
       "    }\n",
       "\n",
       "    .dataframe thead th {\n",
       "        text-align: right;\n",
       "    }\n",
       "</style>\n",
       "<table border=\"1\" class=\"dataframe\">\n",
       "  <thead>\n",
       "    <tr style=\"text-align: right;\">\n",
       "      <th></th>\n",
       "      <th>State Code</th>\n",
       "      <th>State Name</th>\n",
       "      <th>County Code</th>\n",
       "      <th>County Name</th>\n",
       "      <th>City Name</th>\n",
       "      <th>Site Num</th>\n",
       "      <th>Datum</th>\n",
       "      <th>Latitude</th>\n",
       "      <th>Longitude</th>\n",
       "      <th>Date Local</th>\n",
       "      <th>CBSA Name</th>\n",
       "      <th>measurement_id</th>\n",
       "      <th>max_value</th>\n",
       "      <th>AQI_cr_param</th>\n",
       "    </tr>\n",
       "  </thead>\n",
       "  <tbody>\n",
       "  </tbody>\n",
       "</table>\n",
       "</div>"
      ],
      "text/plain": [
       "Empty DataFrame\n",
       "Columns: [State Code, State Name, County Code, County Name, City Name, Site Num, Datum, Latitude, Longitude, Date Local, CBSA Name, measurement_id, max_value, AQI_cr_param]\n",
       "Index: []"
      ]
     },
     "execution_count": 11,
     "metadata": {},
     "output_type": "execute_result"
    }
   ],
   "source": [
    "merge[merge.duplicated(keep=False)]"
   ]
  },
  {
   "cell_type": "code",
   "execution_count": 13,
   "id": "5c187997-64b7-4a72-a30d-7fa52eae49ae",
   "metadata": {},
   "outputs": [],
   "source": [
    "merge.to_csv(\"daily_AQI.csv\", index=False, encoding='utf-8')"
   ]
  }
 ],
 "metadata": {
  "kernelspec": {
   "display_name": "Python 3 (ipykernel)",
   "language": "python",
   "name": "python3"
  },
  "language_info": {
   "codemirror_mode": {
    "name": "ipython",
    "version": 3
   },
   "file_extension": ".py",
   "mimetype": "text/x-python",
   "name": "python",
   "nbconvert_exporter": "python",
   "pygments_lexer": "ipython3",
   "version": "3.9.17"
  }
 },
 "nbformat": 4,
 "nbformat_minor": 5
}
